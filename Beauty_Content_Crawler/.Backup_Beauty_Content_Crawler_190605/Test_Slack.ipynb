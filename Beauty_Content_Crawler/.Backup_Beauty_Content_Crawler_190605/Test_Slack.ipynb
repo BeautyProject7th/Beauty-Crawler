{
 "cells": [
  {
   "cell_type": "markdown",
   "metadata": {},
   "source": [
    "# Slack"
   ]
  },
  {
   "cell_type": "code",
   "execution_count": 2,
   "metadata": {
    "collapsed": true
   },
   "outputs": [],
   "source": [
    "from slacker import Slacker"
   ]
  },
  {
   "cell_type": "code",
   "execution_count": 6,
   "metadata": {},
   "outputs": [],
   "source": [
    "f_check = open(\"../slack_token_check_bot.txt\")\n",
    "f_noti = open(\"../slack_token_noti_bot.txt\")"
   ]
  },
  {
   "cell_type": "code",
   "execution_count": 7,
   "metadata": {},
   "outputs": [],
   "source": [
    "token_check = f_check.readline()[:-1]\n",
    "token_noti = f_noti.readline()[:-1]\n",
    "slack_noti = Slacker(token_noti)\n",
    "slack_check = Slacker(token_check)"
   ]
  },
  {
   "cell_type": "code",
   "execution_count": 12,
   "metadata": {},
   "outputs": [
    {
     "name": "stdout",
     "output_type": "stream",
     "text": [
      "PZN2k9z\n",
      "W2MRfh8\n"
     ]
    }
   ],
   "source": [
    "print(token_check[35:])\n",
    "print(token_noti[35:])"
   ]
  },
  {
   "cell_type": "markdown",
   "metadata": {},
   "source": [
    "# Time"
   ]
  },
  {
   "cell_type": "code",
   "execution_count": 326,
   "metadata": {},
   "outputs": [
    {
     "name": "stdout",
     "output_type": "stream",
     "text": [
      "2017-06-04 19:13:20.426375\n",
      "2017-06-04 19:13:20\n"
     ]
    }
   ],
   "source": [
    "now = str(datetime.now())\n",
    "print(str(now))\n",
    "now = str(datetime.now())[:-7]\n",
    "print(now)"
   ]
  },
  {
   "cell_type": "code",
   "execution_count": 335,
   "metadata": {
    "collapsed": true
   },
   "outputs": [],
   "source": [
    "start = datetime.now()"
   ]
  },
  {
   "cell_type": "code",
   "execution_count": 336,
   "metadata": {
    "collapsed": true
   },
   "outputs": [],
   "source": [
    "finish = datetime.now()"
   ]
  },
  {
   "cell_type": "code",
   "execution_count": 343,
   "metadata": {
    "collapsed": true
   },
   "outputs": [],
   "source": [
    "long = finish-start"
   ]
  },
  {
   "cell_type": "code",
   "execution_count": 353,
   "metadata": {
    "collapsed": true
   },
   "outputs": [],
   "source": [
    "total = long*10000"
   ]
  },
  {
   "cell_type": "code",
   "execution_count": 354,
   "metadata": {
    "collapsed": true
   },
   "outputs": [],
   "source": [
    "pre_time  = start + total"
   ]
  },
  {
   "cell_type": "code",
   "execution_count": 355,
   "metadata": {},
   "outputs": [
    {
     "name": "stdout",
     "output_type": "stream",
     "text": [
      "2017-06-05 18:12:15.367510\n"
     ]
    }
   ],
   "source": [
    "print(pre_time)"
   ]
  },
  {
   "cell_type": "code",
   "execution_count": 337,
   "metadata": {},
   "outputs": [
    {
     "name": "stdout",
     "output_type": "stream",
     "text": [
      "2017-06-04 20:51:31.667510\n",
      "2017-06-04 20:51:39.351880\n"
     ]
    }
   ],
   "source": [
    "print(start)\n",
    "print(finish)"
   ]
  },
  {
   "cell_type": "code",
   "execution_count": 339,
   "metadata": {},
   "outputs": [
    {
     "ename": "TypeError",
     "evalue": "int() argument must be a string, a bytes-like object or a number, not 'datetime.datetime'",
     "output_type": "error",
     "traceback": [
      "\u001b[0;31m---------------------------------------------------------------------------\u001b[0m",
      "\u001b[0;31mTypeError\u001b[0m                                 Traceback (most recent call last)",
      "\u001b[0;32m<ipython-input-339-54f5c70f739b>\u001b[0m in \u001b[0;36m<module>\u001b[0;34m()\u001b[0m\n\u001b[0;32m----> 1\u001b[0;31m \u001b[0mint\u001b[0m\u001b[0;34m(\u001b[0m\u001b[0mfinish\u001b[0m\u001b[0;34m)\u001b[0m\u001b[0;34m-\u001b[0m\u001b[0mint\u001b[0m\u001b[0;34m(\u001b[0m\u001b[0mstart\u001b[0m\u001b[0;34m)\u001b[0m\u001b[0;34m\u001b[0m\u001b[0m\n\u001b[0m",
      "\u001b[0;31mTypeError\u001b[0m: int() argument must be a string, a bytes-like object or a number, not 'datetime.datetime'"
     ]
    }
   ],
   "source": [
    "int(finish)-int(start)"
   ]
  },
  {
   "cell_type": "code",
   "execution_count": 327,
   "metadata": {
    "collapsed": true
   },
   "outputs": [],
   "source": [
    "now = datetime.strptime(str(now), '%Y-%m-%d %H:%M:%S').strftime('%s')"
   ]
  },
  {
   "cell_type": "markdown",
   "metadata": {
    "collapsed": true
   },
   "source": [
    "# Attachments"
   ]
  },
  {
   "cell_type": "code",
   "execution_count": 287,
   "metadata": {
    "collapsed": true
   },
   "outputs": [],
   "source": [
    "result_ms = \"```Summary\\nSummary\\nSummary\\n``` ⏱ Time required : 1234\""
   ]
  },
  {
   "cell_type": "code",
   "execution_count": 320,
   "metadata": {
    "collapsed": true
   },
   "outputs": [],
   "source": [
    "result = dict()\n",
    "result[\"fallback\"] = \"Error in Crawling\"\n",
    "result[\"color\"] = \"danger\"\n",
    "result[\"title\"] = \"Resurt For crawling of video Information\"\n",
    "result[\"text\"] = result_ms\n",
    "result[\"footer\"] = \"Crawling\"\n",
    "result[\"footer_icon\"] = \"https://platform.slack-edge.com/img/default_application_icon.png\"\n",
    "result[\"ts\"] = now\n",
    "result['mrkdwn_in'] = [\"text\"]\n",
    "result_att = [result]"
   ]
  },
  {
   "cell_type": "code",
   "execution_count": 321,
   "metadata": {},
   "outputs": [
    {
     "data": {
      "text/plain": [
       "<slacker.Response at 0x7ff78ea872e8>"
      ]
     },
     "execution_count": 321,
     "metadata": {},
     "output_type": "execute_result"
    }
   ],
   "source": [
    "slack_check.chat.post_message(channel=\"#general\", text=None, attachments=result_att, as_user=True)"
   ]
  },
  {
   "cell_type": "code",
   "execution_count": 304,
   "metadata": {
    "collapsed": true
   },
   "outputs": [],
   "source": [
    "err_ms = \"⚠️ 에러 내용\""
   ]
  },
  {
   "cell_type": "code",
   "execution_count": 305,
   "metadata": {
    "collapsed": true
   },
   "outputs": [],
   "source": [
    "error = dict()\n",
    "error[\"fallback\"] = \"Error in Crawling\"\n",
    "error[\"color\"] = \"warning\"\n",
    "error[\"title\"] = \"Error perfection of data\"\n",
    "error[\"text\"] = err_ms\n",
    "error[\"footer\"] = \"Crawling\"\n",
    "error[\"footer_icon\"] = \"https://platform.slack-edge.com/img/default_application_icon.png\"\n",
    "error[\"ts\"] = now\n",
    "error['mrkdwn_in'] = [\"text\"]\n",
    "error_att = [error]"
   ]
  },
  {
   "cell_type": "code",
   "execution_count": 306,
   "metadata": {},
   "outputs": [
    {
     "data": {
      "text/plain": [
       "<slacker.Response at 0x7ff78ea88048>"
      ]
     },
     "execution_count": 306,
     "metadata": {},
     "output_type": "execute_result"
    }
   ],
   "source": [
    "slack_check.chat.post_message(channel=\"#general\", text=None, attachments=error_att, as_user=True)"
   ]
  },
  {
   "cell_type": "markdown",
   "metadata": {},
   "source": [
    "# Sample"
   ]
  },
  {
   "cell_type": "code",
   "execution_count": 169,
   "metadata": {
    "collapsed": true
   },
   "outputs": [],
   "source": [
    "attachments = [\n",
    "        {\n",
    "            \"fallback\": \"111111Required plain-text summary of the attachment.\",\n",
    "            \"color\": \"#36a64f\",\n",
    "            \"pretext\": \"Optional text that appears above the attachment block\",\n",
    "            \"author_name\": \"Bobby Tables\",\n",
    "            \"author_link\": \"http://flickr.com/bobby/\",\n",
    "            \"author_icon\": \"http://flickr.com/icons/bobby.jpg\",\n",
    "            \"title\": \"Slack API Documentation\",\n",
    "            \"title_link\": \"https://api.slack.com/\",\n",
    "            \"fields\": [\n",
    "                {\n",
    "                    \"title\": \"Priority\",\n",
    "                    \"value\": \"``` Highasdasdasdsadasdasdsad/nasdasd/nasdasd/masdasdasdasd/nasdasdasd/nasdasdasdasd/nasdasdasd/n ```\",\n",
    "                \n",
    "                    \"short\": True\n",
    "                }\n",
    "            ],\n",
    "            \"image_url\": \"http://my-website.com/path/to/image.jpg\",\n",
    "            \"thumb_url\": \"http://example.com/path/to/thumb.png\",\n",
    "            \"footer\": \"Slack API\",\n",
    "            \"footer_icon\": \"https://platform.slack-edge.com/img/default_application_icon.png\",\n",
    "            \"ts\": 123456789\n",
    "        }\n",
    "    ]"
   ]
  },
  {
   "cell_type": "code",
   "execution_count": 81,
   "metadata": {
    "collapsed": true
   },
   "outputs": [],
   "source": [
    "attachments_dict = dict()\n",
    "attachments_dict['pretext'] = \"attachments 블록 전에 나타나는 text\"\n",
    "attachments_dict['title'] = \"다른 텍스트 보다 크고 볼드되어서 보이는 title\"\n",
    "attachments_dict['title_link'] = \"https://corikachu.github.io\"\n",
    "attachments_dict['fallback'] = \"클라이언트에서 노티피케이션에 보이는 텍스트 입니다. attachment 블록에는 나타나지 않습니다\"\n",
    "attachments_dict['text'] = \"본문 텍스트! 5줄이 넘어가면 *show more*로 보이게 됩니다.\"\n",
    "attachments_dict['mrkdwn_in'] = [\"text\", \"pretext\"]  # 마크다운을 적용시킬 인자들을 선택합니다.\n",
    "attachments2 = [attachments_dict]"
   ]
  },
  {
   "cell_type": "code",
   "execution_count": 84,
   "metadata": {},
   "outputs": [
    {
     "data": {
      "text/plain": [
       "<slacker.Response at 0x7ff78eb4b278>"
      ]
     },
     "execution_count": 84,
     "metadata": {},
     "output_type": "execute_result"
    }
   ],
   "source": [
    "slack_check.chat.post_message(channel=\"#output\",attachments=attachments, as_user=True)"
   ]
  }
 ],
 "metadata": {
  "kernelspec": {
   "display_name": "Python 3",
   "language": "python",
   "name": "python3"
  },
  "language_info": {
   "codemirror_mode": {
    "name": "ipython",
    "version": 3
   },
   "file_extension": ".py",
   "mimetype": "text/x-python",
   "name": "python",
   "nbconvert_exporter": "python",
   "pygments_lexer": "ipython3",
   "version": "3.5.2"
  }
 },
 "nbformat": 4,
 "nbformat_minor": 2
}
