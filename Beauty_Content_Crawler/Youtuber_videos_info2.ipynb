{
 "cells": [
  {
   "cell_type": "markdown",
   "metadata": {},
   "source": [
    "# Videos Information2 [update, description]"
   ]
  },
  {
   "cell_type": "markdown",
   "metadata": {},
   "source": [
    "(1) 실시간 스트리밍경우 소리만 나오는듯 하다(=아닌 경우도 존재하는 듯). 날짜로 스트리밍인지 아닌지 구분 가능.  \n",
    "(2) 진짜 더보기가 없는 경우  \n",
    "(3) \\<a href의 경우 찾음 1238번째  \n",
    "(4) 언어 바꿔서 크롤링하기 - 완성  \n",
    "(5) 동영상이 사용자에 의해 삭제된 상황 처리 39번째 혹은 비공개 동영상인 경우. - 완성  \n",
    "(6) 더보기가 안 들어간 것도 아니고 이상하게 한두글자 들어간 경우 - 완성  "
   ]
  },
  {
   "cell_type": "code",
   "execution_count": 1,
   "metadata": {
    "collapsed": true
   },
   "outputs": [],
   "source": [
    "import pandas as pd\n",
    "from selenium import webdriver\n",
    "from bs4 import BeautifulSoup\n",
    "from slacker import Slacker\n",
    "import time\n",
    "from datetime import datetime \n",
    "import traceback"
   ]
  },
  {
   "cell_type": "markdown",
   "metadata": {},
   "source": [
    "## Using slack Bot"
   ]
  },
  {
   "cell_type": "code",
   "execution_count": 22,
   "metadata": {},
   "outputs": [
    {
     "data": {
      "text/plain": [
       "'Vyf'"
      ]
     },
     "execution_count": 22,
     "metadata": {},
     "output_type": "execute_result"
    }
   ],
   "source": [
    "f = open(\"../../slack_token_check_bot.txt\")\n",
    "token_check = f.readline()[:-1]\n",
    "slack_check = Slacker(token_check)\n",
    "f.close()\n",
    "token_check[-3:]"
   ]
  },
  {
   "cell_type": "code",
   "execution_count": 23,
   "metadata": {},
   "outputs": [
    {
     "data": {
      "text/plain": [
       "'Pmo'"
      ]
     },
     "execution_count": 23,
     "metadata": {},
     "output_type": "execute_result"
    }
   ],
   "source": [
    "f = open(\"../../slack_token_noti_bot.txt\")\n",
    "token_noti = f.readline()[:-1]\n",
    "slack_noti = Slacker(token_noti)\n",
    "f.close()\n",
    "token_noti[-3:]"
   ]
  },
  {
   "cell_type": "markdown",
   "metadata": {},
   "source": [
    "## Read / Make CSV file"
   ]
  },
  {
   "cell_type": "code",
   "execution_count": 4,
   "metadata": {
    "collapsed": true
   },
   "outputs": [],
   "source": [
    "csv_name = \"youtuber_videos_info2.csv\""
   ]
  },
  {
   "cell_type": "code",
   "execution_count": 5,
   "metadata": {},
   "outputs": [
    {
     "name": "stdout",
     "output_type": "stream",
     "text": [
      "Read file\n"
     ]
    }
   ],
   "source": [
    "rm_f = \"\"\n",
    "try: \n",
    "    videos_df = pd.read_csv(csv_name, encoding = \"utf-8\")\n",
    "    rm_f = \"Read file\"\n",
    "    print(\"Read file\")\n",
    "except:\n",
    "    rm_f = \"Exception handling\"\n",
    "    print(\"Exception handling\")\n",
    "    temp_df = pd.read_csv(\"youtuber_videos_info.csv\", encoding = \"utf-8\")\n",
    "    videos_df = temp_df\n",
    "    videos_df[\"update\"] = None\n",
    "    videos_df[\"description\"] = None\n",
    "    videos_df[\"thumbnail\"] = None\n",
    "    videos_df.to_csv(csv_name, encoding = \"utf-8\", index = False)\n",
    "    videos_df = pd.read_csv(csv_name, encoding = \"utf-8\")\n",
    "    videos_df = videos_df.fillna(0)\n",
    "    videos_df.to_csv(csv_name, encoding = \"utf-8\", index = False)\n",
    "    videos_df = pd.read_csv(csv_name, encoding = \"utf-8\")"
   ]
  },
  {
   "cell_type": "code",
   "execution_count": 6,
   "metadata": {},
   "outputs": [
    {
     "data": {
      "text/plain": [
       "str"
      ]
     },
     "execution_count": 6,
     "metadata": {},
     "output_type": "execute_result"
    }
   ],
   "source": [
    "type(videos_df[\"update\"][4079])"
   ]
  },
  {
   "cell_type": "code",
   "execution_count": 7,
   "metadata": {},
   "outputs": [
    {
     "data": {
      "text/html": [
       "<div>\n",
       "<style>\n",
       "    .dataframe thead tr:only-child th {\n",
       "        text-align: right;\n",
       "    }\n",
       "\n",
       "    .dataframe thead th {\n",
       "        text-align: left;\n",
       "    }\n",
       "\n",
       "    .dataframe tbody tr th {\n",
       "        vertical-align: top;\n",
       "    }\n",
       "</style>\n",
       "<table border=\"1\" class=\"dataframe\">\n",
       "  <thead>\n",
       "    <tr style=\"text-align: right;\">\n",
       "      <th></th>\n",
       "      <th>youtuber_name</th>\n",
       "      <th>video_id</th>\n",
       "      <th>update</th>\n",
       "      <th>description</th>\n",
       "      <th>thumbnail</th>\n",
       "    </tr>\n",
       "  </thead>\n",
       "  <tbody>\n",
       "    <tr>\n",
       "      <th>0</th>\n",
       "      <td>씬님</td>\n",
       "      <td>https://www.youtube.com/watch?v=UTXuSv8e18E</td>\n",
       "      <td>게시일: 2017. 5. 29.</td>\n",
       "      <td>♥ 안녕하세요 여러분 씬님입니다! 오늘은 꽁지님과 함께 콜라보를 하게 되었어요! 왼...</td>\n",
       "      <td>https://i.ytimg.com/vi/UTXuSv8e18E/maxresdefau...</td>\n",
       "    </tr>\n",
       "    <tr>\n",
       "      <th>1</th>\n",
       "      <td>씬님</td>\n",
       "      <td>https://www.youtube.com/watch?v=_BsClDZgRaY</td>\n",
       "      <td>게시일: 2017. 5. 22.</td>\n",
       "      <td>♥ 안녕하세요 여러분 씬님입니다. \\n저번에 소개팅 메이크업에 이어 오늘은 시집가는...</td>\n",
       "      <td>https://i.ytimg.com/vi/_BsClDZgRaY/maxresdefau...</td>\n",
       "    </tr>\n",
       "    <tr>\n",
       "      <th>2</th>\n",
       "      <td>씬님</td>\n",
       "      <td>https://www.youtube.com/watch?v=u_aOZxEiIFs</td>\n",
       "      <td>게시일: 2017. 5. 16.</td>\n",
       "      <td>♥ 안녕하세요 여러분 씬님입니다! 얼마전 투쿨포스쿨과 함께 진행한 팬미팅에 다녀왔는...</td>\n",
       "      <td>https://i.ytimg.com/vi/u_aOZxEiIFs/maxresdefau...</td>\n",
       "    </tr>\n",
       "  </tbody>\n",
       "</table>\n",
       "</div>"
      ],
      "text/plain": [
       "  youtuber_name                                     video_id  \\\n",
       "0            씬님  https://www.youtube.com/watch?v=UTXuSv8e18E   \n",
       "1            씬님  https://www.youtube.com/watch?v=_BsClDZgRaY   \n",
       "2            씬님  https://www.youtube.com/watch?v=u_aOZxEiIFs   \n",
       "\n",
       "              update                                        description  \\\n",
       "0  게시일: 2017. 5. 29.  ♥ 안녕하세요 여러분 씬님입니다! 오늘은 꽁지님과 함께 콜라보를 하게 되었어요! 왼...   \n",
       "1  게시일: 2017. 5. 22.  ♥ 안녕하세요 여러분 씬님입니다. \\n저번에 소개팅 메이크업에 이어 오늘은 시집가는...   \n",
       "2  게시일: 2017. 5. 16.  ♥ 안녕하세요 여러분 씬님입니다! 얼마전 투쿨포스쿨과 함께 진행한 팬미팅에 다녀왔는...   \n",
       "\n",
       "                                           thumbnail  \n",
       "0  https://i.ytimg.com/vi/UTXuSv8e18E/maxresdefau...  \n",
       "1  https://i.ytimg.com/vi/_BsClDZgRaY/maxresdefau...  \n",
       "2  https://i.ytimg.com/vi/u_aOZxEiIFs/maxresdefau...  "
      ]
     },
     "execution_count": 7,
     "metadata": {},
     "output_type": "execute_result"
    }
   ],
   "source": [
    "videos_df.head(3)"
   ]
  },
  {
   "cell_type": "markdown",
   "metadata": {},
   "source": [
    "### Edit video_id"
   ]
  },
  {
   "cell_type": "code",
   "execution_count": 8,
   "metadata": {
    "collapsed": true
   },
   "outputs": [],
   "source": [
    "youtube = \"https://www.youtube.com\"\n",
    "thumb_pre = \"https://i.ytimg.com/vi/\"\n",
    "thumb_des = \"/maxresdefault.jpg\"\n",
    "cnt_videos = len(videos_df)"
   ]
  },
  {
   "cell_type": "code",
   "execution_count": 9,
   "metadata": {
    "scrolled": true
   },
   "outputs": [
    {
     "name": "stdout",
     "output_type": "stream",
     "text": [
      "0:00:00.033953\n",
      "Change of number :  0\n"
     ]
    }
   ],
   "source": [
    "start_time = datetime.now()\n",
    "\n",
    "cnt_change_df = 0\n",
    "for i in range(cnt_videos):\n",
    "    if videos_df[\"video_id\"][i][:19] != \"https://www.youtube\":\n",
    "        cnt_change_df += 1\n",
    "        temp_ad = youtube + videos_df[\"video_id\"][i]\n",
    "        videos_df[\"video_id\"][i] = temp_ad\n",
    "        videos_df.to_csv(csv_name, encoding = \"utf-8\", index = False)\n",
    "print(datetime.now()-start_time)\n",
    "print(\"Change of number : \", cnt_change_df)"
   ]
  },
  {
   "cell_type": "code",
   "execution_count": 10,
   "metadata": {
    "collapsed": true
   },
   "outputs": [],
   "source": [
    "restart_for = videos_df"
   ]
  },
  {
   "cell_type": "markdown",
   "metadata": {
    "collapsed": true
   },
   "source": [
    "# Function"
   ]
  },
  {
   "cell_type": "code",
   "execution_count": 11,
   "metadata": {
    "collapsed": true
   },
   "outputs": [],
   "source": [
    "def get_address_bs(ad):\n",
    "    open_address = driver.get(ad)\n",
    "    get_source = driver.page_source\n",
    "    global address_bs\n",
    "    address_bs = BeautifulSoup(get_source, \"html.parser\")\n",
    "    return address_bs"
   ]
  },
  {
   "cell_type": "code",
   "execution_count": 12,
   "metadata": {
    "collapsed": true
   },
   "outputs": [],
   "source": [
    "def private_delete_video(num, ad): #동영상을 볼 수 없습니다. #동영상이 사용자에 의해 삭제되었습니다.\n",
    "    pride_bs = get_address_bs(ad)  #Content Warning      #removed by the user\n",
    "    result = str(pride_bs.find_all(\"h1\", {\"class\" : \"message\"}))\n",
    "    while(1):\n",
    "        if \"\\n\" not in result:\n",
    "            if \"  \" not in result:\n",
    "                break\n",
    "        result = result.replace(\"\\n\", \"\")\n",
    "        result = result.replace(\"  \", \"\")\n",
    "    result = result[46:-6]\n",
    "    if \"삭제되었습니다.\" in result:\n",
    "        videos_df[\"update\"][num] = \"remove\"\n",
    "        videos_df[\"description\"][num] = \"remove\"\n",
    "        videos_df[\"thumbnail\"][num] = \"remove\"\n",
    "        slack_check.chat.post_message(\"#output\", \" *This video removd by user.*\\n```Number : \" + str(i) + \", \"+ videos_df[\"video_id\"] + \"```\", as_user=True)\n",
    "    elif \"볼 수 없습니다.\" in result:\n",
    "        videos_df[\"update\"][num] = \"private\"\n",
    "        videos_df[\"description\"][num] = \"private\"\n",
    "        videos_df[\"thumbnail\"][num] = \"private\"\n",
    "        slack_check.chat.post_message(\"#output\", \" *Content Warning*\\n```Number : \" + str(i) + \", \"+ videos_df[\"video_id\"] + \"```\", as_user=True)"
   ]
  },
  {
   "cell_type": "code",
   "execution_count": 13,
   "metadata": {
    "collapsed": true
   },
   "outputs": [],
   "source": [
    "def find_upload_date(ad_bs):\n",
    "    upload = ad_bs.find_all(\"div\", {\"id\" : \"watch-uploader-info\"})\n",
    "    upload = str(upload)\n",
    "    upload = upload[63:-16]\n",
    "    return upload"
   ]
  },
  {
   "cell_type": "code",
   "execution_count": 14,
   "metadata": {
    "collapsed": true
   },
   "outputs": [],
   "source": [
    "def find_description(ad_bs):\n",
    "    global description\n",
    "    describe = ad_bs.find_all(\"p\", {\"id\" : \"eow-description\"})\n",
    "    describe = str(describe)\n",
    "    describe = describe[34:-5]\n",
    "    describe = describe.replace(\"</a>\", \"\")\n",
    "    describe = describe.replace(\"<br/>\", \"\\n\")\n",
    "    describe = describe.split(\"<a class=\\\"\")\n",
    "    for i in range(len(describe)):\n",
    "        if \"yt-uix-servicelink\" in describe[i]:\n",
    "            result = describe[i]\n",
    "            result = result.split(\"target=\\\"_blank\\\">\")\n",
    "            #result = result.split(\"\\\">\")\n",
    "            describe[i] = result[1]\n",
    "        if \"yt-uix-sessionlink\" in describe[i]:\n",
    "            result = describe[i]\n",
    "            result = result.split(\"\\\">\")\n",
    "            describe[i] = result[1]\n",
    "    description = \"\".join(describe)\n",
    "    return description"
   ]
  },
  {
   "cell_type": "code",
   "execution_count": 15,
   "metadata": {
    "collapsed": true
   },
   "outputs": [],
   "source": [
    "def set_korean():\n",
    "    open_address = driver.get(\"https://www.youtube.com/watch?v=TGstCQ5qUeE\")\n",
    "    time.sleep(10)\n",
    "    get_source = driver.page_source\n",
    "    set_bs = BeautifulSoup(get_source, \"html.parser\")\n",
    "    driver.find_element_by_id('yt-picker-language-button').click()\n",
    "    time.sleep(5)\n",
    "    driver.find_element_by_xpath(\"//*[@title='Korean']\").click()"
   ]
  },
  {
   "cell_type": "code",
   "execution_count": 16,
   "metadata": {
    "collapsed": true
   },
   "outputs": [],
   "source": [
    "def set_result_ms():\n",
    "    now = str(datetime.now())[:-7]\n",
    "    now = datetime.strptime(str(now), '%Y-%m-%d %H:%M:%S').strftime('%s')\n",
    "    result_ms = result_ms = \"```Find Information : \" + str(find_info) + \"\\nShort Description : \" + str(short_ds) + \"```\" + \"⏱ Time required : \" + str(datetime.now()-start_time)\n",
    "    result = dict()\n",
    "    result[\"fallback\"] = \"Finish in Crawling\"\n",
    "    result[\"color\"] = \"danger\"\n",
    "    result[\"title\"] = \"Result For Video Information\"\n",
    "    result[\"text\"] = result_ms\n",
    "    result[\"footer\"] = \"Beauty\"\n",
    "    result[\"footer_icon\"] = \"http://cfile218.uf.daum.net/image/220C804A593401F80F7867\"\n",
    "    result[\"ts\"] = now\n",
    "    result['mrkdwn_in'] = [\"text\"]\n",
    "    global result_att\n",
    "    result_att = [result]"
   ]
  },
  {
   "cell_type": "code",
   "execution_count": 17,
   "metadata": {
    "collapsed": true
   },
   "outputs": [],
   "source": [
    "def set_error_ms(e):\n",
    "    now = str(datetime.now())[:-7]\n",
    "    now = datetime.strptime(str(now), '%Y-%m-%d %H:%M:%S').strftime('%s')\n",
    "    error = dict()\n",
    "    error[\"fallback\"] = \"⚠️ Error in Crawling\"\n",
    "    error[\"color\"] = \"warning\"\n",
    "    error[\"title\"] = \"⚠️ Error about Video Information\"\n",
    "    error[\"text\"] = e\n",
    "    error[\"footer\"] = \"Beauty\"\n",
    "    error[\"footer_icon\"] = \"http://cfile218.uf.daum.net/image/220C804A593401F80F7867\"\n",
    "    error[\"ts\"] = now\n",
    "    error['mrkdwn_in'] = [\"text\"]\n",
    "    global error_att\n",
    "    error_att = [error]"
   ]
  },
  {
   "cell_type": "code",
   "execution_count": 18,
   "metadata": {
    "collapsed": true
   },
   "outputs": [],
   "source": [
    "def set_estimated_ms(t, o):\n",
    "    now = str(datetime.now())[:-7]\n",
    "    now = datetime.strptime(str(now), '%Y-%m-%d %H:%M:%S').strftime('%s')\n",
    "    esti = dict()\n",
    "    esti[\"fallback\"] = \"🃏 Estimated time\"\n",
    "    esti[\"color\"] = \"#439FE0\"\n",
    "    esti[\"title\"] = \"🃏 Estimated time of completion\"\n",
    "    esti[\"text\"] = \"Estimated time : \" + str(t) + \"\\nOne iterate : \" + str(o)\n",
    "    esti[\"footer\"] = \"Beauty\"\n",
    "    esti[\"footer_icon\"] = \"http://cfile218.uf.daum.net/image/220C804A593401F80F7867\"\n",
    "    esti[\"ts\"] = now\n",
    "    esti['mrkdwn_in'] = [\"text\"]\n",
    "    global estimated_att\n",
    "    estimated_att = [esti]"
   ]
  },
  {
   "cell_type": "markdown",
   "metadata": {},
   "source": [
    "# Main"
   ]
  },
  {
   "cell_type": "markdown",
   "metadata": {},
   "source": [
    "확인할 것  \n",
    "(1) 비공개/삭제 동영상인 경우  \n",
    "(2) Description 5자 미만 확인"
   ]
  },
  {
   "cell_type": "code",
   "execution_count": 19,
   "metadata": {},
   "outputs": [
    {
     "data": {
      "text/html": [
       "<div>\n",
       "<style>\n",
       "    .dataframe thead tr:only-child th {\n",
       "        text-align: right;\n",
       "    }\n",
       "\n",
       "    .dataframe thead th {\n",
       "        text-align: left;\n",
       "    }\n",
       "\n",
       "    .dataframe tbody tr th {\n",
       "        vertical-align: top;\n",
       "    }\n",
       "</style>\n",
       "<table border=\"1\" class=\"dataframe\">\n",
       "  <thead>\n",
       "    <tr style=\"text-align: right;\">\n",
       "      <th></th>\n",
       "      <th>youtuber_name</th>\n",
       "      <th>video_id</th>\n",
       "      <th>update</th>\n",
       "      <th>description</th>\n",
       "      <th>thumbnail</th>\n",
       "    </tr>\n",
       "  </thead>\n",
       "  <tbody>\n",
       "    <tr>\n",
       "      <th>0</th>\n",
       "      <td>씬님</td>\n",
       "      <td>https://www.youtube.com/watch?v=UTXuSv8e18E</td>\n",
       "      <td>게시일: 2017. 5. 29.</td>\n",
       "      <td>♥ 안녕하세요 여러분 씬님입니다! 오늘은 꽁지님과 함께 콜라보를 하게 되었어요! 왼...</td>\n",
       "      <td>https://i.ytimg.com/vi/UTXuSv8e18E/maxresdefau...</td>\n",
       "    </tr>\n",
       "    <tr>\n",
       "      <th>1</th>\n",
       "      <td>씬님</td>\n",
       "      <td>https://www.youtube.com/watch?v=_BsClDZgRaY</td>\n",
       "      <td>게시일: 2017. 5. 22.</td>\n",
       "      <td>♥ 안녕하세요 여러분 씬님입니다. \\n저번에 소개팅 메이크업에 이어 오늘은 시집가는...</td>\n",
       "      <td>https://i.ytimg.com/vi/_BsClDZgRaY/maxresdefau...</td>\n",
       "    </tr>\n",
       "    <tr>\n",
       "      <th>2</th>\n",
       "      <td>씬님</td>\n",
       "      <td>https://www.youtube.com/watch?v=u_aOZxEiIFs</td>\n",
       "      <td>게시일: 2017. 5. 16.</td>\n",
       "      <td>♥ 안녕하세요 여러분 씬님입니다! 얼마전 투쿨포스쿨과 함께 진행한 팬미팅에 다녀왔는...</td>\n",
       "      <td>https://i.ytimg.com/vi/u_aOZxEiIFs/maxresdefau...</td>\n",
       "    </tr>\n",
       "  </tbody>\n",
       "</table>\n",
       "</div>"
      ],
      "text/plain": [
       "  youtuber_name                                     video_id  \\\n",
       "0            씬님  https://www.youtube.com/watch?v=UTXuSv8e18E   \n",
       "1            씬님  https://www.youtube.com/watch?v=_BsClDZgRaY   \n",
       "2            씬님  https://www.youtube.com/watch?v=u_aOZxEiIFs   \n",
       "\n",
       "              update                                        description  \\\n",
       "0  게시일: 2017. 5. 29.  ♥ 안녕하세요 여러분 씬님입니다! 오늘은 꽁지님과 함께 콜라보를 하게 되었어요! 왼...   \n",
       "1  게시일: 2017. 5. 22.  ♥ 안녕하세요 여러분 씬님입니다. \\n저번에 소개팅 메이크업에 이어 오늘은 시집가는...   \n",
       "2  게시일: 2017. 5. 16.  ♥ 안녕하세요 여러분 씬님입니다! 얼마전 투쿨포스쿨과 함께 진행한 팬미팅에 다녀왔는...   \n",
       "\n",
       "                                           thumbnail  \n",
       "0  https://i.ytimg.com/vi/UTXuSv8e18E/maxresdefau...  \n",
       "1  https://i.ytimg.com/vi/_BsClDZgRaY/maxresdefau...  \n",
       "2  https://i.ytimg.com/vi/u_aOZxEiIFs/maxresdefau...  "
      ]
     },
     "execution_count": 19,
     "metadata": {},
     "output_type": "execute_result"
    }
   ],
   "source": [
    "videos_df.head(3)"
   ]
  },
  {
   "cell_type": "code",
   "execution_count": 24,
   "metadata": {
    "collapsed": true
   },
   "outputs": [],
   "source": [
    "driver = webdriver.Firefox()\n",
    "set_korean()"
   ]
  },
  {
   "cell_type": "code",
   "execution_count": 25,
   "metadata": {},
   "outputs": [
    {
     "name": "stdout",
     "output_type": "stream",
     "text": [
      "2017-06-06 03:28:44.572922 0:00:02.167465\n"
     ]
    }
   ],
   "source": [
    "if rm_f != \"Read file\":\n",
    "    slack_check.chat.post_message(\"#Process\", \"> * Start Crawling *\", as_user = True)\n",
    "    slack_check.chat.post_message(\"#output\", \"> *Find Description of less than 5 characters*\", as_user = True)\n",
    "\n",
    "short_ds = 0\n",
    "find_info = 0\n",
    "\n",
    "try:\n",
    "    for i in range(cnt_videos):\n",
    "        if i == 0:\n",
    "            for_start_time = datetime.now()\n",
    "        address = videos_df[\"video_id\"][i]\n",
    "        private_delete_video(i, address)\n",
    "        if videos_df[\"update\"][i] == 0:\n",
    "            find_info += 1\n",
    "            print(i)\n",
    "            address_bs = get_address_bs(address)\n",
    "            upload = find_upload_date(address_bs)\n",
    "            description = find_description(address_bs)\n",
    "            if len(description) < 5:\n",
    "                short_ds += 1\n",
    "                slack_check.chat.post_message(\"#output\", \"`Number : \" + str(i) + \"` \"+ videos_df[\"video_id\"][i] + \"\\n\" + str(description), as_user=True)\n",
    "            videos_df[\"update\"][i] = upload\n",
    "            videos_df[\"description\"][i] = description\n",
    "            thumbnail = videos_df[\"video_id\"][i][32:]\n",
    "            thumbnail = thumb_pre + thumbnail + thumb_des\n",
    "            videos_df[\"thumbnail\"][i] = thumbnail\n",
    "            videos_df.to_csv(csv_name, encoding=\"utf-8\", index=False)\n",
    "        slack_check.chat.post_message(\"#process\", \"`Number : \" + str(i) + \"`\\n\" + str(videos_df[\"description\"][i]), as_user = True)\n",
    "        if i == 0:\n",
    "            for_finish_time = datetime.now()\n",
    "            one_for = for_finish_time - for_start_time\n",
    "            total_for = one_for * cnt_videos\n",
    "            estimated_time = str(for_start_time + total_for)\n",
    "            print(estimated_time, one_for)\n",
    "            set_estimated_ms(estimated_time, one_for)\n",
    "            slack_noti.chat.post_message(\"#result\", text = None, attachments = estimated_att, as_user=True)\n",
    "    driver.quit()\n",
    "    set_result_ms()\n",
    "    slack_noti.chat.post_message(\"#result\", text = None, attachments = result_att, as_user=True)\n",
    "\n",
    "except:\n",
    "    import sys\n",
    "    import traceback\n",
    "    e = sys.exc_info()\n",
    "    rep = str(e[1])\n",
    "    rep = rep.replace(\"'\", \"`\")\n",
    "    e = \"[\" + str(e[0])[8:-2] + \"] \" + rep\n",
    "    traceB = str(traceback.format_exc())\n",
    "    e = e + traceB\n",
    "    set_error_ms(e)\n",
    "    slack_noti.chat.post_message(\"#result\", attachments = error_att, as_user=True)"
   ]
  },
  {
   "cell_type": "code",
   "execution_count": null,
   "metadata": {
    "collapsed": true
   },
   "outputs": [],
   "source": []
  },
  {
   "cell_type": "code",
   "execution_count": 58,
   "metadata": {
    "collapsed": true
   },
   "outputs": [],
   "source": [
    "import traceback"
   ]
  },
  {
   "cell_type": "code",
   "execution_count": 59,
   "metadata": {
    "collapsed": true
   },
   "outputs": [],
   "source": [
    "try:\n",
    "    dd\n",
    "except:\n",
    "    a = sys.last_traceback\n",
    "    b = traceback.format_exc()"
   ]
  },
  {
   "cell_type": "code",
   "execution_count": 62,
   "metadata": {},
   "outputs": [
    {
     "name": "stdout",
     "output_type": "stream",
     "text": [
      "<traceback object at 0x7f7c68040708>\n"
     ]
    },
    {
     "data": {
      "text/plain": [
       "'Traceback (most recent call last):\\n  File \"<ipython-input-59-b77658b58aee>\", line 2, in <module>\\n    dd\\nNameError: name \\'dd\\' is not defined\\n'"
      ]
     },
     "execution_count": 62,
     "metadata": {},
     "output_type": "execute_result"
    }
   ],
   "source": [
    "print(a)\n",
    "b"
   ]
  },
  {
   "cell_type": "code",
   "execution_count": null,
   "metadata": {
    "collapsed": true
   },
   "outputs": [],
   "source": []
  }
 ],
 "metadata": {
  "kernelspec": {
   "display_name": "Python 3",
   "language": "python",
   "name": "python3"
  },
  "language_info": {
   "codemirror_mode": {
    "name": "ipython",
    "version": 3
   },
   "file_extension": ".py",
   "mimetype": "text/x-python",
   "name": "python",
   "nbconvert_exporter": "python",
   "pygments_lexer": "ipython3",
   "version": "3.5.2"
  }
 },
 "nbformat": 4,
 "nbformat_minor": 2
}
