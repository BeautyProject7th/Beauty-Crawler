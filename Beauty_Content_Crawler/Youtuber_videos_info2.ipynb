{
 "cells": [
  {
   "cell_type": "markdown",
   "metadata": {},
   "source": [
    "# Videos Information2 [update, description]"
   ]
  },
  {
   "cell_type": "markdown",
   "metadata": {},
   "source": [
    "(1) 실시간 스트리밍경우 소리만 나오는듯 하다(=아닌 경우도 존재하는 듯). 날짜로 스트리밍인지 아닌지 구분 가능.  \n",
    "(2) 진짜 더보기가 없는 경우  \n",
    "(3) \\<a href의 경우 찾음 1238번째  \n",
    "(4) 언어 바꿔서 크롤링하기 - 완성  \n",
    "(5) 동영상이 사용자에 의해 삭제된 상황 처리 39번째 혹은 비공개 동영상인 경우. - 완성  \n",
    "(6) 더보기가 안 들어간 것도 아니고 이상하게 한두글자 들어간 경우 - 완성  "
   ]
  },
  {
   "cell_type": "code",
   "execution_count": 3,
   "metadata": {
    "collapsed": true
   },
   "outputs": [],
   "source": [
    "import pandas as pd\n",
    "from selenium import webdriver\n",
    "from bs4 import BeautifulSoup\n",
    "from slacker import Slacker\n",
    "import time\n",
    "from datetime import datetime "
   ]
  },
  {
   "cell_type": "markdown",
   "metadata": {},
   "source": [
    "## Using slack Bot"
   ]
  },
  {
   "cell_type": "code",
   "execution_count": 9,
   "metadata": {},
   "outputs": [
    {
     "data": {
      "text/plain": [
       "'k9z'"
      ]
     },
     "execution_count": 9,
     "metadata": {},
     "output_type": "execute_result"
    }
   ],
   "source": [
    "f = open(\"../../slack_token_check_bot.txt\")\n",
    "token_check = f.readline()[:-1]\n",
    "slack_check = Slacker(token_check)\n",
    "f.close()\n",
    "token_check[-3:]"
   ]
  },
  {
   "cell_type": "code",
   "execution_count": 10,
   "metadata": {},
   "outputs": [
    {
     "data": {
      "text/plain": [
       "'fh8'"
      ]
     },
     "execution_count": 10,
     "metadata": {},
     "output_type": "execute_result"
    }
   ],
   "source": [
    "f = open(\"../../slack_token_noti_bot.txt\")\n",
    "token_noti = f.readline()[:-1]\n",
    "slack_noti = Slacker(token_noti)\n",
    "f.close()\n",
    "token_noti[-3:]"
   ]
  },
  {
   "cell_type": "markdown",
   "metadata": {},
   "source": [
    "## Read / Make CSV file"
   ]
  },
  {
   "cell_type": "code",
   "execution_count": 11,
   "metadata": {
    "collapsed": true
   },
   "outputs": [],
   "source": [
    "csv_name = \"youtuber_videos_info2.csv\""
   ]
  },
  {
   "cell_type": "code",
   "execution_count": 27,
   "metadata": {},
   "outputs": [
    {
     "name": "stdout",
     "output_type": "stream",
     "text": [
      "Exception handling\n"
     ]
    }
   ],
   "source": [
    "try: \n",
    "    videos_df = pd.read_csv(csv_name, encoding = \"utf-8\")\n",
    "    print(\"Read file\")\n",
    "except:\n",
    "    print(\"Exception handling\")\n",
    "    temp_df = pd.read_csv(\"youtuber_videos_info.csv\", encoding = \"utf-8\")\n",
    "    videos_df = temp_df\n",
    "    videos_df[\"update\"] = None\n",
    "    videos_df[\"description\"] = None\n",
    "    videos_df[\"thumbnail\"] = None\n",
    "    videos_df.to_csv(csv_name, encoding = \"utf-8\", index = False)\n",
    "    videos_df = pd.read_csv(csv_name, encoding = \"utf-8\")\n",
    "    videos_df = videos_df.fillna(0)\n",
    "    videos_df.to_csv(csv_name, encoding = \"utf-8\", index = False)\n",
    "    videos_df = pd.read_csv(csv_name, encoding = \"utf-8\")"
   ]
  },
  {
   "cell_type": "code",
   "execution_count": 28,
   "metadata": {},
   "outputs": [
    {
     "data": {
      "text/plain": [
       "numpy.float64"
      ]
     },
     "execution_count": 28,
     "metadata": {},
     "output_type": "execute_result"
    }
   ],
   "source": [
    "type(videos_df[\"update\"][4079])"
   ]
  },
  {
   "cell_type": "code",
   "execution_count": 29,
   "metadata": {},
   "outputs": [
    {
     "data": {
      "text/html": [
       "<div>\n",
       "<style>\n",
       "    .dataframe thead tr:only-child th {\n",
       "        text-align: right;\n",
       "    }\n",
       "\n",
       "    .dataframe thead th {\n",
       "        text-align: left;\n",
       "    }\n",
       "\n",
       "    .dataframe tbody tr th {\n",
       "        vertical-align: top;\n",
       "    }\n",
       "</style>\n",
       "<table border=\"1\" class=\"dataframe\">\n",
       "  <thead>\n",
       "    <tr style=\"text-align: right;\">\n",
       "      <th></th>\n",
       "      <th>youtuber_name</th>\n",
       "      <th>video_id</th>\n",
       "      <th>update</th>\n",
       "      <th>description</th>\n",
       "      <th>thumbnail</th>\n",
       "    </tr>\n",
       "  </thead>\n",
       "  <tbody>\n",
       "    <tr>\n",
       "      <th>0</th>\n",
       "      <td>씬님</td>\n",
       "      <td>/watch?v=UTXuSv8e18E</td>\n",
       "      <td>0.0</td>\n",
       "      <td>0.0</td>\n",
       "      <td>0.0</td>\n",
       "    </tr>\n",
       "    <tr>\n",
       "      <th>1</th>\n",
       "      <td>씬님</td>\n",
       "      <td>/watch?v=_BsClDZgRaY</td>\n",
       "      <td>0.0</td>\n",
       "      <td>0.0</td>\n",
       "      <td>0.0</td>\n",
       "    </tr>\n",
       "    <tr>\n",
       "      <th>2</th>\n",
       "      <td>씬님</td>\n",
       "      <td>/watch?v=u_aOZxEiIFs</td>\n",
       "      <td>0.0</td>\n",
       "      <td>0.0</td>\n",
       "      <td>0.0</td>\n",
       "    </tr>\n",
       "  </tbody>\n",
       "</table>\n",
       "</div>"
      ],
      "text/plain": [
       "  youtuber_name              video_id  update  description  thumbnail\n",
       "0            씬님  /watch?v=UTXuSv8e18E     0.0          0.0        0.0\n",
       "1            씬님  /watch?v=_BsClDZgRaY     0.0          0.0        0.0\n",
       "2            씬님  /watch?v=u_aOZxEiIFs     0.0          0.0        0.0"
      ]
     },
     "execution_count": 29,
     "metadata": {},
     "output_type": "execute_result"
    }
   ],
   "source": [
    "videos_df.head(3)"
   ]
  },
  {
   "cell_type": "markdown",
   "metadata": {},
   "source": [
    "### Edit video_id"
   ]
  },
  {
   "cell_type": "code",
   "execution_count": 30,
   "metadata": {
    "collapsed": true
   },
   "outputs": [],
   "source": [
    "youtube = \"https://www.youtube.com\"\n",
    "thumb_pre = \"https://i.ytimg.com/vi/\"\n",
    "thumb_des = \"/maxresdefault.jpg\"\n",
    "cnt_videos = len(videos_df)"
   ]
  },
  {
   "cell_type": "code",
   "execution_count": 32,
   "metadata": {
    "scrolled": true
   },
   "outputs": [
    {
     "name": "stderr",
     "output_type": "stream",
     "text": [
      "/usr/local/lib/python3.5/dist-packages/ipykernel_launcher.py:7: SettingWithCopyWarning: \n",
      "A value is trying to be set on a copy of a slice from a DataFrame\n",
      "\n",
      "See the caveats in the documentation: http://pandas.pydata.org/pandas-docs/stable/indexing.html#indexing-view-versus-copy\n",
      "  import sys\n"
     ]
    },
    {
     "name": "stdout",
     "output_type": "stream",
     "text": [
      "0:01:10.956563\n",
      "Change of number :  2400\n"
     ]
    }
   ],
   "source": [
    "start_time = datetime.now()\n",
    "cnt_change_df = 0\n",
    "for i in range(cnt_videos):\n",
    "    if videos_df[\"video_id\"][i][:19] != \"https://www.youtube\":\n",
    "        cnt_change_df += 1\n",
    "        temp_ad = youtube + videos_df[\"video_id\"][i]\n",
    "        videos_df[\"video_id\"][i] = temp_ad\n",
    "        videos_df.to_csv(csv_name, encoding = \"utf-8\", index = False)\n",
    "slack_noti.chat.post_message(\"#result\", \"*Videos_information* End of change address, Change of number : \" + str(cnt_change_df), as_user=True)\n",
    "print(datetime.now()-start_time)\n",
    "print(\"Change of number : \", cnt_change_df)"
   ]
  },
  {
   "cell_type": "markdown",
   "metadata": {
    "collapsed": true
   },
   "source": [
    "# Function"
   ]
  },
  {
   "cell_type": "code",
   "execution_count": 56,
   "metadata": {
    "collapsed": true
   },
   "outputs": [],
   "source": [
    "def get_address_bs(ad):\n",
    "    open_address = driver.get(ad)\n",
    "    get_source = driver.page_source\n",
    "    raise\n",
    "    global address_bs\n",
    "    address_bs = BeautifulSoup(get_source, \"html.parser\")\n",
    "    return address_bs"
   ]
  },
  {
   "cell_type": "code",
   "execution_count": 45,
   "metadata": {
    "collapsed": true
   },
   "outputs": [],
   "source": [
    "def private_delete_video(num, ad): #동영상을 볼 수 없습니다. #동영상이 사용자에 의해 삭제되었습니다.\n",
    "    pride_bs = get_address_bs(ad)  #Content Warning      #removed by the user\n",
    "    result = str(pride_bs.find_all(\"h1\", {\"class\" : \"message\"}))\n",
    "    while(1):\n",
    "        if \"\\n\" not in result:\n",
    "            if \"  \" not in result:\n",
    "                break\n",
    "        result = result.replace(\"\\n\", \"\")\n",
    "        result = result.replace(\"  \", \"\")\n",
    "    result = result[46:-6]\n",
    "    if \"삭제되었습니다.\" in result:\n",
    "        videos_df[\"update\"][num] = \"remove\"\n",
    "        videos_df[\"description\"][num] = \"remove\"\n",
    "        videos_df[\"thumbnail\"][num] = \"remove\"\n",
    "        slack_check.chat.post_message(\"#output\", \" *This video removd by user.*\\n```Number : \" + str(i) + \", \"+ videos_df[\"video_id\"] + \"```\", as_user=True)\n",
    "    elif \"볼 수 없습니다.\" in result:\n",
    "        videos_df[\"update\"][num] = \"private\"\n",
    "        videos_df[\"description\"][num] = \"private\"\n",
    "        videos_df[\"thumbnail\"][num] = \"private\"\n",
    "        slack_check.chat.post_message(\"#output\", \" *Content Warning*\\n```Number : \" + str(i) + \", \"+ videos_df[\"video_id\"] + \"```\", as_user=True)"
   ]
  },
  {
   "cell_type": "code",
   "execution_count": 42,
   "metadata": {
    "collapsed": true
   },
   "outputs": [],
   "source": [
    "def find_upload_date(ad_bs):\n",
    "    upload = ad_bs.find_all(\"div\", {\"id\" : \"watch-uploader-info\"})\n",
    "    upload = str(upload)\n",
    "    upload = upload[63:-16]\n",
    "    return upload"
   ]
  },
  {
   "cell_type": "code",
   "execution_count": 43,
   "metadata": {
    "collapsed": true
   },
   "outputs": [],
   "source": [
    "def find_description(ad_bs):\n",
    "    global description\n",
    "    describe = ad_bs.find_all(\"p\", {\"id\" : \"eow-description\"})\n",
    "    describe = str(describe)\n",
    "    describe = describe[34:-5]\n",
    "    describe = describe.replace(\"</a>\", \"\")\n",
    "    describe = describe.replace(\"<br/>\", \"\\n\")\n",
    "    describe = describe.split(\"<a class=\\\"\")\n",
    "    for i in range(len(describe)):\n",
    "        if \"yt-uix-servicelink\" in describe[i]:\n",
    "            result = describe[i]\n",
    "            result = result.split(\"target=\\\"_blank\\\">\")\n",
    "            #result = result.split(\"\\\">\")\n",
    "            describe[i] = result[1]\n",
    "        if \"yt-uix-sessionlink\" in describe[i]:\n",
    "            result = describe[i]\n",
    "            result = result.split(\"\\\">\")\n",
    "            describe[i] = result[1]\n",
    "    description = \"\".join(describe)\n",
    "    return description"
   ]
  },
  {
   "cell_type": "code",
   "execution_count": 88,
   "metadata": {
    "collapsed": true
   },
   "outputs": [],
   "source": [
    "def set_korean():\n",
    "    open_address = driver.get(\"https://www.youtube.com/watch?v=TGstCQ5qUeE\")\n",
    "    time.sleep(10)\n",
    "    get_source = driver.page_source\n",
    "    set_bs = BeautifulSoup(get_source, \"html.parser\")\n",
    "    driver.find_element_by_id('yt-picker-language-button').click()\n",
    "    time.sleep(5)\n",
    "    driver.find_element_by_xpath(\"//*[@title='Korean']\").click()"
   ]
  },
  {
   "cell_type": "code",
   "execution_count": 89,
   "metadata": {},
   "outputs": [],
   "source": [
    "set_korean()"
   ]
  },
  {
   "cell_type": "code",
   "execution_count": 92,
   "metadata": {
    "collapsed": true
   },
   "outputs": [],
   "source": [
    "def set_korean2():\n",
    "    open_address = driver.get(\"https://www.youtube.com/watch?v=UTXuSv8e18E\")\n",
    "    time.sleep(10)\n",
    "    get_source = driver.page_source\n",
    "    #set_bs = BeautifulSoup(get_source, \"html.parser\")\n",
    "    #driver.find_element_by_id('yt-picker-language-button').click()\n",
    "    #time.sleep(5)\n",
    "    #driver.find_element_by_xpath(\"//*[@title='Korean']\").click()"
   ]
  },
  {
   "cell_type": "code",
   "execution_count": 93,
   "metadata": {
    "collapsed": true
   },
   "outputs": [],
   "source": [
    "set_korean2()"
   ]
  },
  {
   "cell_type": "markdown",
   "metadata": {},
   "source": [
    "# Main"
   ]
  },
  {
   "cell_type": "markdown",
   "metadata": {},
   "source": [
    "확인할 것  \n",
    "(1) 비공개/삭제 동영상인 경우  \n",
    "(2) Description 10자 미만 확인"
   ]
  },
  {
   "cell_type": "code",
   "execution_count": 57,
   "metadata": {},
   "outputs": [
    {
     "data": {
      "text/plain": [
       "<slacker.Response at 0x7fb03d8d6780>"
      ]
     },
     "execution_count": 57,
     "metadata": {},
     "output_type": "execute_result"
    }
   ],
   "source": [
    "slack_noti.chat.post_message(\"#result\", \"\\n\" + \"> For perfection of data\\n *Start* 💣\" + str(datetime.now()), as_user=True)\n",
    "start_time = datetime.now()\n",
    "\n",
    "short_ds = 0\n",
    "find_info = 0\n",
    "driver = webdriver.Firefox()\n",
    "\n",
    "try:\n",
    "    for i in range(cnt_videos):\n",
    "        slack_check.chat.post_message(\"#process\", \"*Number : \" + str(i) + \"*\", as_user = True)\n",
    "        address = videos_df[\"video_id\"][i]\n",
    "        private_delete_video(i, address)\n",
    "        if videos_df[\"update\"][i] == 0:\n",
    "            find_info += 1\n",
    "            print(i)\n",
    "            address_bs = get_address_bs(address)\n",
    "            upload = find_upload_date(address_bs)\n",
    "            description = find_description(address_bs)\n",
    "            if len(description) < 10:\n",
    "                short_ds += 1\n",
    "                slack_check.chat.post_message(\"#output\", \" *Description of less than 10 characters*\\n```Number : \" + str(i) + \", \"+ videos_df[\"video_id\"] + \"\\n\" + description + \"```\", as_user=True)\n",
    "            videos_df[\"update\"][i] = upload\n",
    "            videos_df[\"description\"][i] = description\n",
    "            video_id = videos_df[\"video_id\"][i][32:]\n",
    "            thumbnail = thumbnail_pre + video_id + thumbnail_des\n",
    "            videos_df.to_csv(csv_name, encoding=\"utf-8\", index=False)\n",
    "except:\n",
    "    slack_noti.chat.post_message(\"#result\", \"*Number : \" + str(i) + \"* ⚠️ Error ⚠️\", as_user=True)\n",
    "        \n",
    "driver.quit()\n",
    "slack_noti.chat.post_message(\"#result\", \"```[Summary for perfection]\\nFind Information : \" + str(find_info) + \"\\nShort Description : \" + str(short_ds) + \"\\nTime : \" + str(datetime.now() - start_time) + \"```\", as_user=True)\n",
    "slack_noti.chat.post_message(\"#result\", \"*Finish* 🎉\" + str(datetime.now()))"
   ]
  },
  {
   "cell_type": "code",
   "execution_count": null,
   "metadata": {
    "collapsed": true
   },
   "outputs": [],
   "source": []
  }
 ],
 "metadata": {
  "kernelspec": {
   "display_name": "Python 3",
   "language": "python",
   "name": "python3"
  },
  "language_info": {
   "codemirror_mode": {
    "name": "ipython",
    "version": 3
   },
   "file_extension": ".py",
   "mimetype": "text/x-python",
   "name": "python",
   "nbconvert_exporter": "python",
   "pygments_lexer": "ipython3",
   "version": "3.5.2"
  }
 },
 "nbformat": 4,
 "nbformat_minor": 2
}
