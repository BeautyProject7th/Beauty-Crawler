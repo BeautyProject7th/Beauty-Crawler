{
 "cells": [
  {
   "cell_type": "markdown",
   "metadata": {},
   "source": [
    "# DataFrame"
   ]
  },
  {
   "cell_type": "markdown",
   "metadata": {},
   "source": [
    "```python\n",
    "# DataFrame 생성\n",
    "pd.DataFrame(list, columns=[list])\n",
    "# DataFrame 읽기\n",
    "df.read_csv(\"file_path\", encoding=\"utf-8\")\n",
    "# DataFrame 쓰기\n",
    "df.to_csv(\"file_path\", encoding=\"utf-8\", index=False)\n",
    "# DataFrame Column 이름 변경\n",
    "df.columns = [list]\n",
    "# DataFrame Column 전체 초기화\n",
    "df[\"column\"] = None\n",
    "# DataFrame Column 중복 삭제\n",
    "df.drop_duplicates(\"column\")\n",
    "# DataFrame 내용 변경\n",
    "df[\"column\"][num] = \"content\"\n",
    "# DataFrame안의 NaN값을 0으로 변경\n",
    "df.fillna(0)\n",
    "# DataFrame 정렬\n",
    "df.sort_values(by=\"column\", ascending=False)\n",
    "# DataFrame Column 추가\n",
    "df[\"column\"] = None\n",
    "# DataFrame Column 삭제\n",
    "del df[\"column\"]\n",
    "```"
   ]
  },
  {
   "cell_type": "markdown",
   "metadata": {},
   "source": [
    "# Selenium"
   ]
  },
  {
   "cell_type": "markdown",
   "metadata": {},
   "source": [
    "```python\n",
    "from selenium import webbdriver\n",
    "from bs4 import BeautifulSoup\n",
    "driver = webdriver.Firefox()\n",
    "driver.get(\"site\")\n",
    "driver.find_element_by_class_name(\"load-more-text\").click()\n",
    "driver.find_element_by_xpath(\"//*[@title='Korean']\").click()\n",
    "driver.execute_script(\"javascript\")\n",
    "source = driver.page_source\n",
    "bs = BeautifulSoup(source, \"html.parser\")\n",
    "bs_find = bs.find_all(\"ul\", {\"li\" : \"channel\"})\n",
    "\n",
    "```"
   ]
  },
  {
   "cell_type": "code",
   "execution_count": null,
   "metadata": {},
   "outputs": [],
   "source": []
  }
 ],
 "metadata": {
  "kernelspec": {
   "display_name": "Python 3",
   "language": "python",
   "name": "python3"
  },
  "language_info": {
   "codemirror_mode": {
    "name": "ipython",
    "version": 3
   },
   "file_extension": ".py",
   "mimetype": "text/x-python",
   "name": "python",
   "nbconvert_exporter": "python",
   "pygments_lexer": "ipython3",
   "version": "3.5.1"
  }
 },
 "nbformat": 4,
 "nbformat_minor": 2
}
