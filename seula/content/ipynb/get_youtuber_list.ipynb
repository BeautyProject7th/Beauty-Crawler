{
 "cells": [
  {
   "cell_type": "code",
   "execution_count": 13,
   "metadata": {},
   "outputs": [],
   "source": [
    "from selenium import webdriver\n",
    "from bs4 import BeautifulSoup # import urllib"
   ]
  },
  {
   "cell_type": "code",
   "execution_count": 21,
   "metadata": {},
   "outputs": [],
   "source": [
    "query = \"메이크업\"\n",
    "query_url = \"https://www.youtube.com/results?search_query=\" + query\n",
    "youtube_address = \"https://www.youtube.com\"\n",
    "youtuber_list_path = \"../csv/youtuber_list_.csv\""
   ]
  },
  {
   "cell_type": "code",
   "execution_count": 15,
   "metadata": {},
   "outputs": [],
   "source": [
    "driver = webdriver.Firefox()\n",
    "driver.get(query_url)\n",
    "source = driver.page_source\n",
    "bs = BeautifulSoup(source, \"html.parser\")"
   ]
  },
  {
   "cell_type": "code",
   "execution_count": 16,
   "metadata": {},
   "outputs": [],
   "source": [
    "# (\"a\", {\"class\", \"yt-uix-button vve-check yt-uix-sessionlink yt-uix-button-default yt-uix-button-size-default\"})\n",
    "# (\"a\", {\"class\" : \"g-hovercard yt-uix-sessionlink spf-link \"})\n",
    "url_list = bs.find_all(\"a\", {\"class\", \"yt-simple-endpoint style-scope yt-formatted-string\"})"
   ]
  },
  {
   "cell_type": "code",
   "execution_count": 17,
   "metadata": {},
   "outputs": [],
   "source": [
    "youtuber_list = []\n",
    "for url in url_list:\n",
    "    youtuber_list.append([url.getText(), youtube_address + url['href']])"
   ]
  },
  {
   "cell_type": "code",
   "execution_count": 9,
   "metadata": {},
   "outputs": [],
   "source": [
    "import pandas as pd\n",
    "youtuber_list_df = pd.DataFrame(youtuber_list, columns = ['user_name', 'user_address', 'videos_address'])"
   ]
  },
  {
   "cell_type": "code",
   "execution_count": 18,
   "metadata": {},
   "outputs": [
    {
     "data": {
      "text/html": [
       "<div>\n",
       "<style scoped>\n",
       "    .dataframe tbody tr th:only-of-type {\n",
       "        vertical-align: middle;\n",
       "    }\n",
       "\n",
       "    .dataframe tbody tr th {\n",
       "        vertical-align: top;\n",
       "    }\n",
       "\n",
       "    .dataframe thead th {\n",
       "        text-align: right;\n",
       "    }\n",
       "</style>\n",
       "<table border=\"1\" class=\"dataframe\">\n",
       "  <thead>\n",
       "    <tr style=\"text-align: right;\">\n",
       "      <th></th>\n",
       "      <th>user_name</th>\n",
       "      <th>user_address</th>\n",
       "      <th>videos_address</th>\n",
       "    </tr>\n",
       "  </thead>\n",
       "  <tbody>\n",
       "    <tr>\n",
       "      <th>0</th>\n",
       "      <td>씬님</td>\n",
       "      <td>https://www.youtube.com/user/Hines382</td>\n",
       "      <td>None</td>\n",
       "    </tr>\n",
       "    <tr>\n",
       "      <th>1</th>\n",
       "      <td>윤짜미</td>\n",
       "      <td>https://www.youtube.com/user/yooncharmi</td>\n",
       "      <td>None</td>\n",
       "    </tr>\n",
       "    <tr>\n",
       "      <th>2</th>\n",
       "      <td>이사배</td>\n",
       "      <td>https://www.youtube.com/channel/UC9kmlDcqksaOn...</td>\n",
       "      <td>None</td>\n",
       "    </tr>\n",
       "  </tbody>\n",
       "</table>\n",
       "</div>"
      ],
      "text/plain": [
       "  user_name                                       user_address videos_address\n",
       "0        씬님              https://www.youtube.com/user/Hines382           None\n",
       "1       윤짜미            https://www.youtube.com/user/yooncharmi           None\n",
       "2       이사배  https://www.youtube.com/channel/UC9kmlDcqksaOn...           None"
      ]
     },
     "execution_count": 18,
     "metadata": {},
     "output_type": "execute_result"
    }
   ],
   "source": [
    "youtuber_list_df.head(3)"
   ]
  },
  {
   "cell_type": "code",
   "execution_count": 19,
   "metadata": {},
   "outputs": [],
   "source": [
    "import time \n",
    "\n",
    "for i, row in youtuber_list_df.iterrows():\n",
    "    driver.get(row[\"user_address\"])\n",
    "    time.sleep(5)\n",
    "    \n",
    "    tabs_info = \"return window['ytInitialData']['contents']['twoColumnBrowseResultsRenderer']['tabs']\"\n",
    "    video_tabs = driver.execute_script(tabs_info)[1]['tabRenderer']['endpoint']['commandMetadata']['webCommandMetadata']['url']\n",
    "    \n",
    "    youtuber_list_df['videos_address'][i] = youtube_address + video_tabs\n",
    "driver.quit()"
   ]
  },
  {
   "cell_type": "code",
   "execution_count": 20,
   "metadata": {},
   "outputs": [
    {
     "data": {
      "text/html": [
       "<div>\n",
       "<style scoped>\n",
       "    .dataframe tbody tr th:only-of-type {\n",
       "        vertical-align: middle;\n",
       "    }\n",
       "\n",
       "    .dataframe tbody tr th {\n",
       "        vertical-align: top;\n",
       "    }\n",
       "\n",
       "    .dataframe thead th {\n",
       "        text-align: right;\n",
       "    }\n",
       "</style>\n",
       "<table border=\"1\" class=\"dataframe\">\n",
       "  <thead>\n",
       "    <tr style=\"text-align: right;\">\n",
       "      <th></th>\n",
       "      <th>user_name</th>\n",
       "      <th>user_address</th>\n",
       "      <th>videos_address</th>\n",
       "    </tr>\n",
       "  </thead>\n",
       "  <tbody>\n",
       "    <tr>\n",
       "      <th>0</th>\n",
       "      <td>씬님</td>\n",
       "      <td>https://www.youtube.com/user/Hines382</td>\n",
       "      <td>https://www.youtube.com/user/Hines382/videos</td>\n",
       "    </tr>\n",
       "    <tr>\n",
       "      <th>1</th>\n",
       "      <td>윤짜미</td>\n",
       "      <td>https://www.youtube.com/user/yooncharmi</td>\n",
       "      <td>https://www.youtube.com/user/yooncharmi/videos</td>\n",
       "    </tr>\n",
       "    <tr>\n",
       "      <th>2</th>\n",
       "      <td>이사배</td>\n",
       "      <td>https://www.youtube.com/channel/UC9kmlDcqksaOn...</td>\n",
       "      <td>https://www.youtube.com/channel/UC9kmlDcqksaOn...</td>\n",
       "    </tr>\n",
       "  </tbody>\n",
       "</table>\n",
       "</div>"
      ],
      "text/plain": [
       "  user_name                                       user_address  \\\n",
       "0        씬님              https://www.youtube.com/user/Hines382   \n",
       "1       윤짜미            https://www.youtube.com/user/yooncharmi   \n",
       "2       이사배  https://www.youtube.com/channel/UC9kmlDcqksaOn...   \n",
       "\n",
       "                                      videos_address  \n",
       "0       https://www.youtube.com/user/Hines382/videos  \n",
       "1     https://www.youtube.com/user/yooncharmi/videos  \n",
       "2  https://www.youtube.com/channel/UC9kmlDcqksaOn...  "
      ]
     },
     "execution_count": 20,
     "metadata": {},
     "output_type": "execute_result"
    }
   ],
   "source": [
    "youtuber_list_df.head(3)"
   ]
  },
  {
   "cell_type": "code",
   "execution_count": null,
   "metadata": {},
   "outputs": [],
   "source": [
    "youtuber_list_df.to_csv(youtuber_list_path, encoding=\"utf-8\", index=False)"
   ]
  },
  {
   "cell_type": "code",
   "execution_count": null,
   "metadata": {},
   "outputs": [],
   "source": []
  }
 ],
 "metadata": {
  "kernelspec": {
   "display_name": "Python 3",
   "language": "python",
   "name": "python3"
  },
  "language_info": {
   "codemirror_mode": {
    "name": "ipython",
    "version": 3
   },
   "file_extension": ".py",
   "mimetype": "text/x-python",
   "name": "python",
   "nbconvert_exporter": "python",
   "pygments_lexer": "ipython3",
   "version": "3.5.1"
  }
 },
 "nbformat": 4,
 "nbformat_minor": 2
}
