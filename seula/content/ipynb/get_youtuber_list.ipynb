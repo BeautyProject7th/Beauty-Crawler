{
 "cells": [
  {
   "cell_type": "code",
   "execution_count": 1,
   "metadata": {},
   "outputs": [],
   "source": [
    "from selenium import webdriver\n",
    "from bs4 import BeautifulSoup # import urllib\n",
    "import time \n",
    "import pandas as pd"
   ]
  },
  {
   "cell_type": "code",
   "execution_count": 2,
   "metadata": {},
   "outputs": [],
   "source": [
    "driver = webdriver.Firefox()\n",
    "youtube_address = \"https://www.youtube.com\""
   ]
  },
  {
   "cell_type": "markdown",
   "metadata": {},
   "source": [
    "# Search Channel"
   ]
  },
  {
   "cell_type": "code",
   "execution_count": 3,
   "metadata": {},
   "outputs": [],
   "source": [
    "query = \"뷰티\"\n",
    "query_url = \"https://www.youtube.com/channels?q={}&page=\".format(query)\n",
    "csv_path = \"../csv/channel_list.csv\""
   ]
  },
  {
   "cell_type": "code",
   "execution_count": 4,
   "metadata": {},
   "outputs": [],
   "source": [
    "driver.get(query_url)\n",
    "source = driver.page_source\n",
    "bs = BeautifulSoup(source, \"html.parser\")"
   ]
  },
  {
   "cell_type": "code",
   "execution_count": 5,
   "metadata": {},
   "outputs": [],
   "source": [
    "url_list = bs.find_all(\"a\", {\"class\" : \" yt-uix-sessionlink\"})"
   ]
  },
  {
   "cell_type": "code",
   "execution_count": 6,
   "metadata": {},
   "outputs": [],
   "source": [
    "channel_list = []\n",
    "for url in url_list:\n",
    "    channel_list.append([url.getText(), youtube_address + url['href'], None])"
   ]
  },
  {
   "cell_type": "code",
   "execution_count": 7,
   "metadata": {},
   "outputs": [
    {
     "data": {
      "text/html": [
       "<div>\n",
       "<style scoped>\n",
       "    .dataframe tbody tr th:only-of-type {\n",
       "        vertical-align: middle;\n",
       "    }\n",
       "\n",
       "    .dataframe tbody tr th {\n",
       "        vertical-align: top;\n",
       "    }\n",
       "\n",
       "    .dataframe thead th {\n",
       "        text-align: right;\n",
       "    }\n",
       "</style>\n",
       "<table border=\"1\" class=\"dataframe\">\n",
       "  <thead>\n",
       "    <tr style=\"text-align: right;\">\n",
       "      <th></th>\n",
       "      <th>channel_name</th>\n",
       "      <th>channel_address</th>\n",
       "      <th>subscribers_num</th>\n",
       "    </tr>\n",
       "  </thead>\n",
       "  <tbody>\n",
       "    <tr>\n",
       "      <th>0</th>\n",
       "      <td>DaDa뷰티</td>\n",
       "      <td>https://www.youtube.com/channel/UCoyyHn7IvRY0p...</td>\n",
       "      <td>None</td>\n",
       "    </tr>\n",
       "    <tr>\n",
       "      <th>1</th>\n",
       "      <td>다영 DAYEONG</td>\n",
       "      <td>https://www.youtube.com/user/adrenallingb</td>\n",
       "      <td>None</td>\n",
       "    </tr>\n",
       "    <tr>\n",
       "      <th>2</th>\n",
       "      <td>룰루랄라 뷰티-lululala beauty</td>\n",
       "      <td>https://www.youtube.com/channel/UCcNVDWMcB6p_x...</td>\n",
       "      <td>None</td>\n",
       "    </tr>\n",
       "    <tr>\n",
       "      <th>3</th>\n",
       "      <td>뷰티학개론 Beautiology</td>\n",
       "      <td>https://www.youtube.com/channel/UCjOslp-74AgL4...</td>\n",
       "      <td>None</td>\n",
       "    </tr>\n",
       "    <tr>\n",
       "      <th>4</th>\n",
       "      <td>일반인들의 리얼뷰티</td>\n",
       "      <td>https://www.youtube.com/channel/UCbq8eC1BqEOMT...</td>\n",
       "      <td>None</td>\n",
       "    </tr>\n",
       "  </tbody>\n",
       "</table>\n",
       "</div>"
      ],
      "text/plain": [
       "              channel_name                                    channel_address  \\\n",
       "0                   DaDa뷰티  https://www.youtube.com/channel/UCoyyHn7IvRY0p...   \n",
       "1               다영 DAYEONG          https://www.youtube.com/user/adrenallingb   \n",
       "2  룰루랄라 뷰티-lululala beauty  https://www.youtube.com/channel/UCcNVDWMcB6p_x...   \n",
       "3        뷰티학개론 Beautiology  https://www.youtube.com/channel/UCjOslp-74AgL4...   \n",
       "4               일반인들의 리얼뷰티  https://www.youtube.com/channel/UCbq8eC1BqEOMT...   \n",
       "\n",
       "  subscribers_num  \n",
       "0            None  \n",
       "1            None  \n",
       "2            None  \n",
       "3            None  \n",
       "4            None  "
      ]
     },
     "execution_count": 7,
     "metadata": {},
     "output_type": "execute_result"
    }
   ],
   "source": [
    "channel_list_df = pd.DataFrame(channel_list, columns = ['channel_name', 'channel_address', 'subscribers_num'])\n",
    "channel_list_df.head(5)"
   ]
  },
  {
   "cell_type": "code",
   "execution_count": 8,
   "metadata": {},
   "outputs": [
    {
     "data": {
      "text/html": [
       "<div>\n",
       "<style scoped>\n",
       "    .dataframe tbody tr th:only-of-type {\n",
       "        vertical-align: middle;\n",
       "    }\n",
       "\n",
       "    .dataframe tbody tr th {\n",
       "        vertical-align: top;\n",
       "    }\n",
       "\n",
       "    .dataframe thead th {\n",
       "        text-align: right;\n",
       "    }\n",
       "</style>\n",
       "<table border=\"1\" class=\"dataframe\">\n",
       "  <thead>\n",
       "    <tr style=\"text-align: right;\">\n",
       "      <th></th>\n",
       "      <th>channel_name</th>\n",
       "      <th>channel_address</th>\n",
       "      <th>subscribers_num</th>\n",
       "    </tr>\n",
       "  </thead>\n",
       "  <tbody>\n",
       "    <tr>\n",
       "      <th>0</th>\n",
       "      <td>DaDa뷰티</td>\n",
       "      <td>https://www.youtube.com/channel/UCoyyHn7IvRY0p...</td>\n",
       "      <td>244888</td>\n",
       "    </tr>\n",
       "    <tr>\n",
       "      <th>1</th>\n",
       "      <td>다영 DAYEONG</td>\n",
       "      <td>https://www.youtube.com/user/adrenallingb</td>\n",
       "      <td>575595</td>\n",
       "    </tr>\n",
       "    <tr>\n",
       "      <th>2</th>\n",
       "      <td>룰루랄라 뷰티-lululala beauty</td>\n",
       "      <td>https://www.youtube.com/channel/UCcNVDWMcB6p_x...</td>\n",
       "      <td>41278</td>\n",
       "    </tr>\n",
       "    <tr>\n",
       "      <th>3</th>\n",
       "      <td>뷰티학개론 Beautiology</td>\n",
       "      <td>https://www.youtube.com/channel/UCjOslp-74AgL4...</td>\n",
       "      <td>661544</td>\n",
       "    </tr>\n",
       "    <tr>\n",
       "      <th>4</th>\n",
       "      <td>일반인들의 리얼뷰티</td>\n",
       "      <td>https://www.youtube.com/channel/UCbq8eC1BqEOMT...</td>\n",
       "      <td>17554</td>\n",
       "    </tr>\n",
       "  </tbody>\n",
       "</table>\n",
       "</div>"
      ],
      "text/plain": [
       "              channel_name                                    channel_address  \\\n",
       "0                   DaDa뷰티  https://www.youtube.com/channel/UCoyyHn7IvRY0p...   \n",
       "1               다영 DAYEONG          https://www.youtube.com/user/adrenallingb   \n",
       "2  룰루랄라 뷰티-lululala beauty  https://www.youtube.com/channel/UCcNVDWMcB6p_x...   \n",
       "3        뷰티학개론 Beautiology  https://www.youtube.com/channel/UCjOslp-74AgL4...   \n",
       "4               일반인들의 리얼뷰티  https://www.youtube.com/channel/UCbq8eC1BqEOMT...   \n",
       "\n",
       "  subscribers_num  \n",
       "0          244888  \n",
       "1          575595  \n",
       "2           41278  \n",
       "3          661544  \n",
       "4           17554  "
      ]
     },
     "execution_count": 8,
     "metadata": {},
     "output_type": "execute_result"
    }
   ],
   "source": [
    "for i, row in channel_list_df.iterrows():\n",
    "    driver.get(row[\"channel_address\"])\n",
    "    time.sleep(5)\n",
    "    \n",
    "    source = driver.page_source\n",
    "    bs = BeautifulSoup(source, \"html.parser\")\n",
    "    \n",
    "    subscribers = bs.find_all(\"yt-formatted-string\", {\"class\" : \"style-scope ytd-c4-tabbed-header-renderer\"})[1].getText()\n",
    "    subscribers = subscribers.replace(\"구독자 \", \"\").replace(\",\", \"\").replace(\"명\", \"\")\n",
    "    \n",
    "    if subscribers is '':\n",
    "        channel_list_df[\"subscribers_num\"][i] = 0\n",
    "    else:\n",
    "        channel_list_df[\"subscribers_num\"][i] = int(subscribers)\n",
    "        \n",
    "channel_list_df.head(5)"
   ]
  },
  {
   "cell_type": "code",
   "execution_count": 10,
   "metadata": {},
   "outputs": [
    {
     "data": {
      "text/html": [
       "<div>\n",
       "<style scoped>\n",
       "    .dataframe tbody tr th:only-of-type {\n",
       "        vertical-align: middle;\n",
       "    }\n",
       "\n",
       "    .dataframe tbody tr th {\n",
       "        vertical-align: top;\n",
       "    }\n",
       "\n",
       "    .dataframe thead th {\n",
       "        text-align: right;\n",
       "    }\n",
       "</style>\n",
       "<table border=\"1\" class=\"dataframe\">\n",
       "  <thead>\n",
       "    <tr style=\"text-align: right;\">\n",
       "      <th></th>\n",
       "      <th>channel_name</th>\n",
       "      <th>channel_address</th>\n",
       "      <th>subscribers_num</th>\n",
       "    </tr>\n",
       "  </thead>\n",
       "  <tbody>\n",
       "    <tr>\n",
       "      <th>14</th>\n",
       "      <td>Mochipeach</td>\n",
       "      <td>https://www.youtube.com/channel/UCOiM8FuCUFJku...</td>\n",
       "      <td>897059</td>\n",
       "    </tr>\n",
       "    <tr>\n",
       "      <th>3</th>\n",
       "      <td>뷰티학개론 Beautiology</td>\n",
       "      <td>https://www.youtube.com/channel/UCjOslp-74AgL4...</td>\n",
       "      <td>661544</td>\n",
       "    </tr>\n",
       "    <tr>\n",
       "      <th>1</th>\n",
       "      <td>다영 DAYEONG</td>\n",
       "      <td>https://www.youtube.com/user/adrenallingb</td>\n",
       "      <td>575595</td>\n",
       "    </tr>\n",
       "    <tr>\n",
       "      <th>10</th>\n",
       "      <td>UNA 유나</td>\n",
       "      <td>https://www.youtube.com/channel/UC81bxgGwnjeN7...</td>\n",
       "      <td>551338</td>\n",
       "    </tr>\n",
       "    <tr>\n",
       "      <th>20</th>\n",
       "      <td>Beautifymeeh 뷰티파이미</td>\n",
       "      <td>https://www.youtube.com/user/beautifymeeh</td>\n",
       "      <td>512365</td>\n",
       "    </tr>\n",
       "  </tbody>\n",
       "</table>\n",
       "</div>"
      ],
      "text/plain": [
       "          channel_name                                    channel_address  \\\n",
       "14          Mochipeach  https://www.youtube.com/channel/UCOiM8FuCUFJku...   \n",
       "3    뷰티학개론 Beautiology  https://www.youtube.com/channel/UCjOslp-74AgL4...   \n",
       "1           다영 DAYEONG          https://www.youtube.com/user/adrenallingb   \n",
       "10              UNA 유나  https://www.youtube.com/channel/UC81bxgGwnjeN7...   \n",
       "20  Beautifymeeh 뷰티파이미          https://www.youtube.com/user/beautifymeeh   \n",
       "\n",
       "   subscribers_num  \n",
       "14          897059  \n",
       "3           661544  \n",
       "1           575595  \n",
       "10          551338  \n",
       "20          512365  "
      ]
     },
     "execution_count": 10,
     "metadata": {},
     "output_type": "execute_result"
    }
   ],
   "source": [
    "channel_list_df = channel_list_df.sort_values(by=\"subscribers_num\", ascending=False)\n",
    "channel_list_df.to_csv(csv_path, encoding=\"utf-8\", index=False)\n",
    "channel_list_df.head(5)"
   ]
  },
  {
   "cell_type": "markdown",
   "metadata": {},
   "source": [
    "# Search Video"
   ]
  },
  {
   "cell_type": "code",
   "execution_count": 11,
   "metadata": {},
   "outputs": [],
   "source": [
    "query = \"메이크업\"\n",
    "query_url = \"https://www.youtube.com/results?search_query=\" + query\n",
    "csv_path = \"../csv/youtuber_list.csv\""
   ]
  },
  {
   "cell_type": "code",
   "execution_count": 12,
   "metadata": {},
   "outputs": [],
   "source": [
    "driver.get(query_url)\n",
    "source = driver.page_source\n",
    "bs = BeautifulSoup(source, \"html.parser\")"
   ]
  },
  {
   "cell_type": "code",
   "execution_count": 13,
   "metadata": {},
   "outputs": [],
   "source": [
    "# (\"a\", {\"class\", \"yt-uix-button vve-check yt-uix-sessionlink yt-uix-button-default yt-uix-button-size-default\"})\n",
    "# (\"a\", {\"class\" : \"g-hovercard yt-uix-sessionlink spf-link \"})\n",
    "url_list = bs.find_all(\"a\", {\"class\", \"yt-simple-endpoint style-scope yt-formatted-string\"})"
   ]
  },
  {
   "cell_type": "code",
   "execution_count": 14,
   "metadata": {},
   "outputs": [],
   "source": [
    "youtuber_list = []\n",
    "for url in url_list:\n",
    "    youtuber_list.append([url.getText(), youtube_address + url['href'], None])"
   ]
  },
  {
   "cell_type": "code",
   "execution_count": 20,
   "metadata": {},
   "outputs": [
    {
     "data": {
      "text/html": [
       "<div>\n",
       "<style scoped>\n",
       "    .dataframe tbody tr th:only-of-type {\n",
       "        vertical-align: middle;\n",
       "    }\n",
       "\n",
       "    .dataframe tbody tr th {\n",
       "        vertical-align: top;\n",
       "    }\n",
       "\n",
       "    .dataframe thead th {\n",
       "        text-align: right;\n",
       "    }\n",
       "</style>\n",
       "<table border=\"1\" class=\"dataframe\">\n",
       "  <thead>\n",
       "    <tr style=\"text-align: right;\">\n",
       "      <th></th>\n",
       "      <th>user_name</th>\n",
       "      <th>user_address</th>\n",
       "      <th>videos_address</th>\n",
       "    </tr>\n",
       "  </thead>\n",
       "  <tbody>\n",
       "    <tr>\n",
       "      <th>0</th>\n",
       "      <td>씬님</td>\n",
       "      <td>https://www.youtube.com/user/Hines382</td>\n",
       "      <td>None</td>\n",
       "    </tr>\n",
       "    <tr>\n",
       "      <th>1</th>\n",
       "      <td>윤짜미</td>\n",
       "      <td>https://www.youtube.com/user/yooncharmi</td>\n",
       "      <td>None</td>\n",
       "    </tr>\n",
       "    <tr>\n",
       "      <th>2</th>\n",
       "      <td>이사배</td>\n",
       "      <td>https://www.youtube.com/channel/UC9kmlDcqksaOn...</td>\n",
       "      <td>None</td>\n",
       "    </tr>\n",
       "    <tr>\n",
       "      <th>3</th>\n",
       "      <td>포니</td>\n",
       "      <td>https://www.youtube.com/channel/UCT-_4GqC-yLY1...</td>\n",
       "      <td>None</td>\n",
       "    </tr>\n",
       "    <tr>\n",
       "      <th>4</th>\n",
       "      <td>Lena's Pocket Beauty</td>\n",
       "      <td>https://www.youtube.com/channel/UCU8mou_JjcF-I...</td>\n",
       "      <td>None</td>\n",
       "    </tr>\n",
       "  </tbody>\n",
       "</table>\n",
       "</div>"
      ],
      "text/plain": [
       "              user_name                                       user_address  \\\n",
       "0                    씬님              https://www.youtube.com/user/Hines382   \n",
       "1                   윤짜미            https://www.youtube.com/user/yooncharmi   \n",
       "2                   이사배  https://www.youtube.com/channel/UC9kmlDcqksaOn...   \n",
       "3                    포니  https://www.youtube.com/channel/UCT-_4GqC-yLY1...   \n",
       "4  Lena's Pocket Beauty  https://www.youtube.com/channel/UCU8mou_JjcF-I...   \n",
       "\n",
       "  videos_address  \n",
       "0           None  \n",
       "1           None  \n",
       "2           None  \n",
       "3           None  \n",
       "4           None  "
      ]
     },
     "execution_count": 20,
     "metadata": {},
     "output_type": "execute_result"
    }
   ],
   "source": [
    "youtuber_list_df = pd.DataFrame(youtuber_list, columns = ['user_name', 'user_address', 'videos_address'])\n",
    "youtuber_list_df.head(5)"
   ]
  },
  {
   "cell_type": "code",
   "execution_count": 21,
   "metadata": {},
   "outputs": [],
   "source": [
    "for i, row in youtuber_list_df.iterrows():\n",
    "    driver.get(row[\"user_address\"])\n",
    "    time.sleep(5)\n",
    "    \n",
    "    tabs_info = \"return window['ytInitialData']['contents']['twoColumnBrowseResultsRenderer']['tabs']\"\n",
    "    video_tabs = driver.execute_script(tabs_info)[1]['tabRenderer']['endpoint']['commandMetadata']['webCommandMetadata']['url']\n",
    "    \n",
    "    youtuber_list_df[\"videos_address\"][i] = youtube_address + video_tabs"
   ]
  },
  {
   "cell_type": "code",
   "execution_count": 22,
   "metadata": {},
   "outputs": [
    {
     "data": {
      "text/html": [
       "<div>\n",
       "<style scoped>\n",
       "    .dataframe tbody tr th:only-of-type {\n",
       "        vertical-align: middle;\n",
       "    }\n",
       "\n",
       "    .dataframe tbody tr th {\n",
       "        vertical-align: top;\n",
       "    }\n",
       "\n",
       "    .dataframe thead th {\n",
       "        text-align: right;\n",
       "    }\n",
       "</style>\n",
       "<table border=\"1\" class=\"dataframe\">\n",
       "  <thead>\n",
       "    <tr style=\"text-align: right;\">\n",
       "      <th></th>\n",
       "      <th>user_name</th>\n",
       "      <th>user_address</th>\n",
       "      <th>videos_address</th>\n",
       "    </tr>\n",
       "  </thead>\n",
       "  <tbody>\n",
       "    <tr>\n",
       "      <th>0</th>\n",
       "      <td>씬님</td>\n",
       "      <td>https://www.youtube.com/user/Hines382</td>\n",
       "      <td>https://www.youtube.com/user/Hines382/videos</td>\n",
       "    </tr>\n",
       "    <tr>\n",
       "      <th>1</th>\n",
       "      <td>윤짜미</td>\n",
       "      <td>https://www.youtube.com/user/yooncharmi</td>\n",
       "      <td>https://www.youtube.com/user/yooncharmi/videos</td>\n",
       "    </tr>\n",
       "    <tr>\n",
       "      <th>2</th>\n",
       "      <td>이사배</td>\n",
       "      <td>https://www.youtube.com/channel/UC9kmlDcqksaOn...</td>\n",
       "      <td>https://www.youtube.com/channel/UC9kmlDcqksaOn...</td>\n",
       "    </tr>\n",
       "    <tr>\n",
       "      <th>3</th>\n",
       "      <td>포니</td>\n",
       "      <td>https://www.youtube.com/channel/UCT-_4GqC-yLY1...</td>\n",
       "      <td>https://www.youtube.com/channel/UCT-_4GqC-yLY1...</td>\n",
       "    </tr>\n",
       "    <tr>\n",
       "      <th>4</th>\n",
       "      <td>Lena's Pocket Beauty</td>\n",
       "      <td>https://www.youtube.com/channel/UCU8mou_JjcF-I...</td>\n",
       "      <td>https://www.youtube.com/channel/UCU8mou_JjcF-I...</td>\n",
       "    </tr>\n",
       "  </tbody>\n",
       "</table>\n",
       "</div>"
      ],
      "text/plain": [
       "              user_name                                       user_address  \\\n",
       "0                    씬님              https://www.youtube.com/user/Hines382   \n",
       "1                   윤짜미            https://www.youtube.com/user/yooncharmi   \n",
       "2                   이사배  https://www.youtube.com/channel/UC9kmlDcqksaOn...   \n",
       "3                    포니  https://www.youtube.com/channel/UCT-_4GqC-yLY1...   \n",
       "4  Lena's Pocket Beauty  https://www.youtube.com/channel/UCU8mou_JjcF-I...   \n",
       "\n",
       "                                      videos_address  \n",
       "0       https://www.youtube.com/user/Hines382/videos  \n",
       "1     https://www.youtube.com/user/yooncharmi/videos  \n",
       "2  https://www.youtube.com/channel/UC9kmlDcqksaOn...  \n",
       "3  https://www.youtube.com/channel/UCT-_4GqC-yLY1...  \n",
       "4  https://www.youtube.com/channel/UCU8mou_JjcF-I...  "
      ]
     },
     "execution_count": 22,
     "metadata": {},
     "output_type": "execute_result"
    }
   ],
   "source": [
    "youtuber_list_df.to_csv(csv_path, encoding=\"utf-8\", index=False)\n",
    "youtuber_list_df.head(5)"
   ]
  },
  {
   "cell_type": "code",
   "execution_count": 23,
   "metadata": {},
   "outputs": [],
   "source": [
    "driver.quit()"
   ]
  },
  {
   "cell_type": "code",
   "execution_count": null,
   "metadata": {},
   "outputs": [],
   "source": []
  }
 ],
 "metadata": {
  "kernelspec": {
   "display_name": "Python 3",
   "language": "python",
   "name": "python3"
  }
 },
 "nbformat": 4,
 "nbformat_minor": 2
}
