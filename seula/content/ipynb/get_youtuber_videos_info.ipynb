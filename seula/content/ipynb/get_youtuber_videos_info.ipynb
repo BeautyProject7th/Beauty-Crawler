{
 "cells": [
  {
   "cell_type": "markdown",
   "metadata": {},
   "source": [
    "# Videos Information\n",
    "* update, description"
   ]
  },
  {
   "cell_type": "code",
   "execution_count": 8,
   "metadata": {},
   "outputs": [],
   "source": [
    "import pandas as pd\n",
    "from selenium import webdriver\n",
    "import time"
   ]
  },
  {
   "cell_type": "code",
   "execution_count": 9,
   "metadata": {},
   "outputs": [],
   "source": [
    "youtuber_video_list_path = \"../csv/youtuber_video_list.csv\"\n",
    "youtuber_video_info_path = \"../csv/youtuber_videos_info.csv\""
   ]
  },
  {
   "cell_type": "code",
   "execution_count": 3,
   "metadata": {},
   "outputs": [
    {
     "data": {
      "text/html": [
       "<div>\n",
       "<style scoped>\n",
       "    .dataframe tbody tr th:only-of-type {\n",
       "        vertical-align: middle;\n",
       "    }\n",
       "\n",
       "    .dataframe tbody tr th {\n",
       "        vertical-align: top;\n",
       "    }\n",
       "\n",
       "    .dataframe thead th {\n",
       "        text-align: right;\n",
       "    }\n",
       "</style>\n",
       "<table border=\"1\" class=\"dataframe\">\n",
       "  <thead>\n",
       "    <tr style=\"text-align: right;\">\n",
       "      <th></th>\n",
       "      <th>youtuber_name</th>\n",
       "      <th>video_title</th>\n",
       "      <th>video_address</th>\n",
       "      <th>video_thumbnail</th>\n",
       "    </tr>\n",
       "  </thead>\n",
       "  <tbody>\n",
       "    <tr>\n",
       "      <th>0</th>\n",
       "      <td>씬님</td>\n",
       "      <td>🎃주황색 미국호박 난생 처음봄;; \"미쿡호박\"에서 영감을 받은 겟레디윗미! 오렌지 ...</td>\n",
       "      <td>https://www.youtube.com/watch?v=QUcW8hREwDQ</td>\n",
       "      <td>https://i.ytimg.com/vi/QUcW8hREwDQ/maxresdefau...</td>\n",
       "    </tr>\n",
       "    <tr>\n",
       "      <th>1</th>\n",
       "      <td>씬님</td>\n",
       "      <td>🆘한국보다10배 더 무섭다!🆘 유니버셜 스튜디오 호러나이트// 호러메이즈 체험 | ...</td>\n",
       "      <td>https://www.youtube.com/watch?v=TxEbm6z25y0</td>\n",
       "      <td>https://i.ytimg.com/vi/TxEbm6z25y0/maxresdefau...</td>\n",
       "    </tr>\n",
       "    <tr>\n",
       "      <th>2</th>\n",
       "      <td>씬님</td>\n",
       "      <td>🎪좀비를 꼬시러 가는 겟레디윗미🎪 \"유니버셜 스튜디오 호러나이트\" 같이화장해요! |...</td>\n",
       "      <td>https://www.youtube.com/watch?v=2FJlzki8Fw8</td>\n",
       "      <td>https://i.ytimg.com/vi/2FJlzki8Fw8/maxresdefau...</td>\n",
       "    </tr>\n",
       "  </tbody>\n",
       "</table>\n",
       "</div>"
      ],
      "text/plain": [
       "  youtuber_name                                        video_title  \\\n",
       "0            씬님  🎃주황색 미국호박 난생 처음봄;; \"미쿡호박\"에서 영감을 받은 겟레디윗미! 오렌지 ...   \n",
       "1            씬님  🆘한국보다10배 더 무섭다!🆘 유니버셜 스튜디오 호러나이트// 호러메이즈 체험 | ...   \n",
       "2            씬님  🎪좀비를 꼬시러 가는 겟레디윗미🎪 \"유니버셜 스튜디오 호러나이트\" 같이화장해요! |...   \n",
       "\n",
       "                                 video_address  \\\n",
       "0  https://www.youtube.com/watch?v=QUcW8hREwDQ   \n",
       "1  https://www.youtube.com/watch?v=TxEbm6z25y0   \n",
       "2  https://www.youtube.com/watch?v=2FJlzki8Fw8   \n",
       "\n",
       "                                     video_thumbnail  \n",
       "0  https://i.ytimg.com/vi/QUcW8hREwDQ/maxresdefau...  \n",
       "1  https://i.ytimg.com/vi/TxEbm6z25y0/maxresdefau...  \n",
       "2  https://i.ytimg.com/vi/2FJlzki8Fw8/maxresdefau...  "
      ]
     },
     "execution_count": 3,
     "metadata": {},
     "output_type": "execute_result"
    }
   ],
   "source": [
    "youtuber_video_list_df = pd.read_csv(youtuber_video_list_path, encoding=\"utf-8\")\n",
    "youtuber_video_list_df.head(3)"
   ]
  },
  {
   "cell_type": "code",
   "execution_count": 4,
   "metadata": {},
   "outputs": [
    {
     "data": {
      "text/html": [
       "<div>\n",
       "<style scoped>\n",
       "    .dataframe tbody tr th:only-of-type {\n",
       "        vertical-align: middle;\n",
       "    }\n",
       "\n",
       "    .dataframe tbody tr th {\n",
       "        vertical-align: top;\n",
       "    }\n",
       "\n",
       "    .dataframe thead th {\n",
       "        text-align: right;\n",
       "    }\n",
       "</style>\n",
       "<table border=\"1\" class=\"dataframe\">\n",
       "  <thead>\n",
       "    <tr style=\"text-align: right;\">\n",
       "      <th></th>\n",
       "      <th>youtuber_name</th>\n",
       "      <th>video_title</th>\n",
       "      <th>video_address</th>\n",
       "      <th>video_thumbnail</th>\n",
       "      <th>video_updated</th>\n",
       "      <th>video_description</th>\n",
       "    </tr>\n",
       "  </thead>\n",
       "  <tbody>\n",
       "    <tr>\n",
       "      <th>0</th>\n",
       "      <td>씬님</td>\n",
       "      <td>🎃주황색 미국호박 난생 처음봄;; \"미쿡호박\"에서 영감을 받은 겟레디윗미! 오렌지 ...</td>\n",
       "      <td>https://www.youtube.com/watch?v=QUcW8hREwDQ</td>\n",
       "      <td>https://i.ytimg.com/vi/QUcW8hREwDQ/maxresdefau...</td>\n",
       "      <td>NaN</td>\n",
       "      <td>NaN</td>\n",
       "    </tr>\n",
       "    <tr>\n",
       "      <th>1</th>\n",
       "      <td>씬님</td>\n",
       "      <td>🆘한국보다10배 더 무섭다!🆘 유니버셜 스튜디오 호러나이트// 호러메이즈 체험 | ...</td>\n",
       "      <td>https://www.youtube.com/watch?v=TxEbm6z25y0</td>\n",
       "      <td>https://i.ytimg.com/vi/TxEbm6z25y0/maxresdefau...</td>\n",
       "      <td>NaN</td>\n",
       "      <td>NaN</td>\n",
       "    </tr>\n",
       "    <tr>\n",
       "      <th>2</th>\n",
       "      <td>씬님</td>\n",
       "      <td>🎪좀비를 꼬시러 가는 겟레디윗미🎪 \"유니버셜 스튜디오 호러나이트\" 같이화장해요! |...</td>\n",
       "      <td>https://www.youtube.com/watch?v=2FJlzki8Fw8</td>\n",
       "      <td>https://i.ytimg.com/vi/2FJlzki8Fw8/maxresdefau...</td>\n",
       "      <td>NaN</td>\n",
       "      <td>NaN</td>\n",
       "    </tr>\n",
       "  </tbody>\n",
       "</table>\n",
       "</div>"
      ],
      "text/plain": [
       "  youtuber_name                                        video_title  \\\n",
       "0            씬님  🎃주황색 미국호박 난생 처음봄;; \"미쿡호박\"에서 영감을 받은 겟레디윗미! 오렌지 ...   \n",
       "1            씬님  🆘한국보다10배 더 무섭다!🆘 유니버셜 스튜디오 호러나이트// 호러메이즈 체험 | ...   \n",
       "2            씬님  🎪좀비를 꼬시러 가는 겟레디윗미🎪 \"유니버셜 스튜디오 호러나이트\" 같이화장해요! |...   \n",
       "\n",
       "                                 video_address  \\\n",
       "0  https://www.youtube.com/watch?v=QUcW8hREwDQ   \n",
       "1  https://www.youtube.com/watch?v=TxEbm6z25y0   \n",
       "2  https://www.youtube.com/watch?v=2FJlzki8Fw8   \n",
       "\n",
       "                                     video_thumbnail  video_updated  \\\n",
       "0  https://i.ytimg.com/vi/QUcW8hREwDQ/maxresdefau...            NaN   \n",
       "1  https://i.ytimg.com/vi/TxEbm6z25y0/maxresdefau...            NaN   \n",
       "2  https://i.ytimg.com/vi/2FJlzki8Fw8/maxresdefau...            NaN   \n",
       "\n",
       "   video_description  \n",
       "0                NaN  \n",
       "1                NaN  \n",
       "2                NaN  "
      ]
     },
     "execution_count": 4,
     "metadata": {},
     "output_type": "execute_result"
    }
   ],
   "source": [
    "column_list = ['youtuber_name', 'video_title', 'video_address', 'video_thumbnail', 'video_updated', 'video_description']\n",
    "youtuber_video_info_df = pd.DataFrame(youtuber_video_list_df, columns=column_list)\n",
    "youtuber_video_info_df.head(3)"
   ]
  },
  {
   "cell_type": "code",
   "execution_count": 5,
   "metadata": {},
   "outputs": [],
   "source": [
    "video_info_script = \"return window['ytInitialData']['contents']['twoColumnWatchNextResults'] \\\n",
    "                    ['results']['results']['contents'][1]['videoSecondaryInfoRenderer']\"\n",
    "date_script = \"{}['dateText']['simpleText']\".format(video_info_script)\n",
    "description_script = \"{}['description']['runs']\".format(video_info_script)"
   ]
  },
  {
   "cell_type": "markdown",
   "metadata": {},
   "source": [
    "1. Date : 영상과 스트리밍 구분\n",
    "    - 영상 - \"게시일: 2017. 10. 31.\"\n",
    "    - 스트리밍 - \"실시간 스트리밍 시작일: 2017. 10. 31.\"\n",
    "2. Description\n",
    "    - Description이 없는 경우\n",
    "        - 스트리밍\n",
    "        - 작성하지 않음\n",
    "    - Description내에 link가 포함된 경우(줄여서 포함되는 경우도 종종 있음)\n",
    "    \n",
    "    \n",
    "- ~~비공개/삭제 동영상 확인~~  \n",
    "    - ~~동영상을 볼 수 없습니다.(Content Warning)~~\n",
    "    - ~~동영상이 사용자에 의해 삭제되었습니다.(Removed by the user)~~\n",
    "- ~~페이지 언어 변경~~\n",
    "- ~~Description 5글자 미만 확인(1글자 or 2글자)~~\n",
    "- ~~Description에 link가 포함된 경우(\\<a href)~~\n"
   ]
  },
  {
   "cell_type": "code",
   "execution_count": 50,
   "metadata": {},
   "outputs": [],
   "source": [
    "driver = webdriver.Firefox()"
   ]
  },
  {
   "cell_type": "code",
   "execution_count": 52,
   "metadata": {},
   "outputs": [],
   "source": [
    "date_list = []\n",
    "description_list = []\n",
    "\n",
    "for i, row in youtuber_video_info_df.iterrows():\n",
    "    driver.get(row['video_address'])\n",
    "    time.sleep(3)\n",
    "    \n",
    "    date_info_list = driver.execute_script(date_script).split(': ')\n",
    "    date_info = date_info_list[0]\n",
    "    date = date_info_list[1].replace(\". \", \"/\").replace(\".\", \"\")\n",
    "    \n",
    "    description = \"\"\n",
    "    try:        \n",
    "        description_text_list = driver.execute_script(description_script)\n",
    "        for text in description_text_list:\n",
    "            description += text['text']\n",
    "    except:\n",
    "        pass\n",
    "        \n",
    "    date_list.append(date)\n",
    "    description_list.append(description)"
   ]
  },
  {
   "cell_type": "code",
   "execution_count": null,
   "metadata": {},
   "outputs": [],
   "source": [
    "driver.quit()"
   ]
  },
  {
   "cell_type": "code",
   "execution_count": 71,
   "metadata": {
    "scrolled": false
   },
   "outputs": [],
   "source": [
    "from IPython.display import clear_output\n",
    "\n",
    "check_description = youtuber_video_info_df['video_description'].values\n",
    "for description in check_description:\n",
    "    clear_output()\n",
    "    print(description)"
   ]
  },
  {
   "cell_type": "code",
   "execution_count": 57,
   "metadata": {},
   "outputs": [
    {
     "data": {
      "text/html": [
       "<div>\n",
       "<style scoped>\n",
       "    .dataframe tbody tr th:only-of-type {\n",
       "        vertical-align: middle;\n",
       "    }\n",
       "\n",
       "    .dataframe tbody tr th {\n",
       "        vertical-align: top;\n",
       "    }\n",
       "\n",
       "    .dataframe thead th {\n",
       "        text-align: right;\n",
       "    }\n",
       "</style>\n",
       "<table border=\"1\" class=\"dataframe\">\n",
       "  <thead>\n",
       "    <tr style=\"text-align: right;\">\n",
       "      <th></th>\n",
       "      <th>youtuber_name</th>\n",
       "      <th>video_title</th>\n",
       "      <th>video_address</th>\n",
       "      <th>video_thumbnail</th>\n",
       "      <th>video_updated</th>\n",
       "      <th>video_description</th>\n",
       "    </tr>\n",
       "  </thead>\n",
       "  <tbody>\n",
       "    <tr>\n",
       "      <th>0</th>\n",
       "      <td>씬님</td>\n",
       "      <td>🎃주황색 미국호박 난생 처음봄;; \"미쿡호박\"에서 영감을 받은 겟레디윗미! 오렌지 ...</td>\n",
       "      <td>https://www.youtube.com/watch?v=QUcW8hREwDQ</td>\n",
       "      <td>https://i.ytimg.com/vi/QUcW8hREwDQ/maxresdefau...</td>\n",
       "      <td>2018/11/9</td>\n",
       "      <td>🎃안녕하세요 여러분 #씬님 입니다. 오늘은 할로윈in #LA 시리즈의 세번째편, 호...</td>\n",
       "    </tr>\n",
       "    <tr>\n",
       "      <th>1</th>\n",
       "      <td>씬님</td>\n",
       "      <td>🆘한국보다10배 더 무섭다!🆘 유니버셜 스튜디오 호러나이트// 호러메이즈 체험 | ...</td>\n",
       "      <td>https://www.youtube.com/watch?v=TxEbm6z25y0</td>\n",
       "      <td>https://i.ytimg.com/vi/TxEbm6z25y0/maxresdefau...</td>\n",
       "      <td>2018/11/5</td>\n",
       "      <td>❌안녕하세요 여러분 #씬님 입니다. 여러분들은 아시는지 모르겠지만, 사실 근 5년간...</td>\n",
       "    </tr>\n",
       "    <tr>\n",
       "      <th>2</th>\n",
       "      <td>씬님</td>\n",
       "      <td>🎪좀비를 꼬시러 가는 겟레디윗미🎪 \"유니버셜 스튜디오 호러나이트\" 같이화장해요! |...</td>\n",
       "      <td>https://www.youtube.com/watch?v=2FJlzki8Fw8</td>\n",
       "      <td>https://i.ytimg.com/vi/2FJlzki8Fw8/maxresdefau...</td>\n",
       "      <td>2018/11/3</td>\n",
       "      <td>🎪안녕하세요 여러분 #씬님 입니다. 여러분들은 아시는지 모르겠지만, 사실 근 5년간...</td>\n",
       "    </tr>\n",
       "    <tr>\n",
       "      <th>3</th>\n",
       "      <td>씬님</td>\n",
       "      <td>💋1930's 상하이 모던 레트로 메이크업 Modern retro makeup | ...</td>\n",
       "      <td>https://www.youtube.com/watch?v=LzXZDPln_wY</td>\n",
       "      <td>https://i.ytimg.com/vi/LzXZDPln_wY/maxresdefau...</td>\n",
       "      <td>2018/10/26</td>\n",
       "      <td>💋이 영상은 유료광고를 포함하고 있습니다. \\nThis video is sponso...</td>\n",
       "    </tr>\n",
       "    <tr>\n",
       "      <th>4</th>\n",
       "      <td>씬님</td>\n",
       "      <td>로드샵 원브랜드 메이크업 : 삐아 #2 | SSIN</td>\n",
       "      <td>https://www.youtube.com/watch?v=ovMZ4VlHflc</td>\n",
       "      <td>https://i.ytimg.com/vi/ovMZ4VlHflc/maxresdefau...</td>\n",
       "      <td>2018/10/25</td>\n",
       "      <td>🐥안녕하세요 여러분 #씬님 입니다. 오늘은 #원브랜드 메이크업 삐아 2편으로 돌아왔...</td>\n",
       "    </tr>\n",
       "  </tbody>\n",
       "</table>\n",
       "</div>"
      ],
      "text/plain": [
       "  youtuber_name                                        video_title  \\\n",
       "0            씬님  🎃주황색 미국호박 난생 처음봄;; \"미쿡호박\"에서 영감을 받은 겟레디윗미! 오렌지 ...   \n",
       "1            씬님  🆘한국보다10배 더 무섭다!🆘 유니버셜 스튜디오 호러나이트// 호러메이즈 체험 | ...   \n",
       "2            씬님  🎪좀비를 꼬시러 가는 겟레디윗미🎪 \"유니버셜 스튜디오 호러나이트\" 같이화장해요! |...   \n",
       "3            씬님  💋1930's 상하이 모던 레트로 메이크업 Modern retro makeup | ...   \n",
       "4            씬님                       로드샵 원브랜드 메이크업 : 삐아 #2 | SSIN   \n",
       "\n",
       "                                 video_address  \\\n",
       "0  https://www.youtube.com/watch?v=QUcW8hREwDQ   \n",
       "1  https://www.youtube.com/watch?v=TxEbm6z25y0   \n",
       "2  https://www.youtube.com/watch?v=2FJlzki8Fw8   \n",
       "3  https://www.youtube.com/watch?v=LzXZDPln_wY   \n",
       "4  https://www.youtube.com/watch?v=ovMZ4VlHflc   \n",
       "\n",
       "                                     video_thumbnail video_updated  \\\n",
       "0  https://i.ytimg.com/vi/QUcW8hREwDQ/maxresdefau...     2018/11/9   \n",
       "1  https://i.ytimg.com/vi/TxEbm6z25y0/maxresdefau...     2018/11/5   \n",
       "2  https://i.ytimg.com/vi/2FJlzki8Fw8/maxresdefau...     2018/11/3   \n",
       "3  https://i.ytimg.com/vi/LzXZDPln_wY/maxresdefau...    2018/10/26   \n",
       "4  https://i.ytimg.com/vi/ovMZ4VlHflc/maxresdefau...    2018/10/25   \n",
       "\n",
       "                                   video_description  \n",
       "0  🎃안녕하세요 여러분 #씬님 입니다. 오늘은 할로윈in #LA 시리즈의 세번째편, 호...  \n",
       "1  ❌안녕하세요 여러분 #씬님 입니다. 여러분들은 아시는지 모르겠지만, 사실 근 5년간...  \n",
       "2  🎪안녕하세요 여러분 #씬님 입니다. 여러분들은 아시는지 모르겠지만, 사실 근 5년간...  \n",
       "3  💋이 영상은 유료광고를 포함하고 있습니다. \\nThis video is sponso...  \n",
       "4  🐥안녕하세요 여러분 #씬님 입니다. 오늘은 #원브랜드 메이크업 삐아 2편으로 돌아왔...  "
      ]
     },
     "execution_count": 57,
     "metadata": {},
     "output_type": "execute_result"
    }
   ],
   "source": [
    "youtuber_video_info_df['video_updated'] = date_list\n",
    "youtuber_video_info_df['video_description'] = description_list\n",
    "youtuber_video_info_df.to_csv(youtuber_video_info_path, encoding=\"utf-8\", index=False)\n",
    "youtuber_video_info_df.head(5)"
   ]
  },
  {
   "cell_type": "code",
   "execution_count": null,
   "metadata": {},
   "outputs": [],
   "source": []
  }
 ],
 "metadata": {
  "kernelspec": {
   "display_name": "Python 3",
   "language": "python",
   "name": "python3"
  },
  "language_info": {
   "codemirror_mode": {
    "name": "ipython",
    "version": 3
   },
   "file_extension": ".py",
   "mimetype": "text/x-python",
   "name": "python",
   "nbconvert_exporter": "python",
   "pygments_lexer": "ipython3",
   "version": "3.5.1"
  }
 },
 "nbformat": 4,
 "nbformat_minor": 2
}
