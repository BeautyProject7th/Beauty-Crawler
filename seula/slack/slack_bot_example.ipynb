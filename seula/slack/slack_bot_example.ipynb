{
 "cells": [
  {
   "cell_type": "markdown",
   "metadata": {},
   "source": [
    "# 1. Read Slack Token \n",
    "* https://tmfdk333.slack.com/apps/manage/custom-integrations"
   ]
  },
  {
   "cell_type": "code",
   "execution_count": 16,
   "metadata": {},
   "outputs": [],
   "source": [
    "from slacker import Slacker\n",
    "\n",
    "f = open(\"../token/slack_token.txt\", 'r')\n",
    "\n",
    "check_token = f.readline()[:-1]\n",
    "noti_token = f.readline()[:-1]\n",
    "test_token = f.readline()\n",
    "\n",
    "check_slack = Slacker(check_token)\n",
    "noti_slack = Slacker(noti_token)\n",
    "test_slack = Slacker(test_token)\n",
    "\n",
    "f.close()"
   ]
  },
  {
   "cell_type": "markdown",
   "metadata": {},
   "source": [
    "# 2. Simple Version"
   ]
  },
  {
   "cell_type": "code",
   "execution_count": 21,
   "metadata": {},
   "outputs": [
    {
     "data": {
      "text/plain": [
       "<slacker.Response at 0x11034b198>"
      ]
     },
     "execution_count": 21,
     "metadata": {},
     "output_type": "execute_result"
    }
   ],
   "source": [
    "Message = \"Hello World\"\n",
    "check_slack.chat.post_message(\"#alba\", Message)"
   ]
  },
  {
   "cell_type": "markdown",
   "metadata": {},
   "source": [
    "# 3. Set Attachments\n"
   ]
  },
  {
   "cell_type": "markdown",
   "metadata": {},
   "source": [
    "## 3-1. Document 예제\n",
    "* https://api.slack.com/docs/message-attachments"
   ]
  },
  {
   "cell_type": "code",
   "execution_count": 90,
   "metadata": {},
   "outputs": [],
   "source": [
    "attachments = [\n",
    "    {\n",
    "        \"fallback\": \"111111Required plain-text summary of the attachment.\",\n",
    "        \"color\": \"#36a64f\",\n",
    "        \"pretext\": \"Optional text that appears above the attachment block\",\n",
    "        \"author_name\": \"Bobby Tables\",\n",
    "        \"author_link\": \"http://flickr.com/bobby/\",\n",
    "        \"author_icon\": \"http://flickr.com/icons/bobby.jpg\",\n",
    "        \"title\": \"Slack API Documentation\",\n",
    "        \"title_link\": \"https://api.slack.com/\",\n",
    "        \"fields\": [\n",
    "            {\n",
    "                \"title\": \"Priority\",\n",
    "                \"value\": \"``` Highasdasdasdsadasdasdsad/nasdasd/nasdasd/masdasdasdasd/nasdasdasd/nasdasdasdasd/nasdasdasd/n ```\",    \n",
    "                \"short\": True\n",
    "            }\n",
    "        ],\n",
    "        \"image_url\": \"http://my-website.com/path/to/image.jpg\",\n",
    "        \"thumb_url\": \"http://example.com/path/to/thumb.png\",\n",
    "        \"footer\": \"Slack API\",\n",
    "        \"footer_icon\": \"https://platform.slack-edge.com/img/default_application_icon.png\",\n",
    "        \"ts\": 123456789\n",
    "    }\n",
    "]"
   ]
  },
  {
   "cell_type": "code",
   "execution_count": 91,
   "metadata": {},
   "outputs": [
    {
     "data": {
      "text/plain": [
       "<slacker.Response at 0x1103aca58>"
      ]
     },
     "execution_count": 91,
     "metadata": {},
     "output_type": "execute_result"
    }
   ],
   "source": [
    "check_slack.chat.post_message(channel=\"#general\",attachments=attachments, as_user=True)"
   ]
  },
  {
   "cell_type": "markdown",
   "metadata": {},
   "source": [
    "## 3-2. Blog 예제\n",
    "* https://corikachu.github.io/articles/python/python-slack-bot-slacker"
   ]
  },
  {
   "cell_type": "code",
   "execution_count": 81,
   "metadata": {},
   "outputs": [],
   "source": [
    "from datetime import datetime\n",
    "time_now = datetime.strftime(datetime.now(), \"%s\")"
   ]
  },
  {
   "cell_type": "code",
   "execution_count": 82,
   "metadata": {},
   "outputs": [],
   "source": [
    "result_ms = \"```Exception\\nException\\nException\\n``` Time required : 1234\""
   ]
  },
  {
   "cell_type": "code",
   "execution_count": 88,
   "metadata": {},
   "outputs": [],
   "source": [
    "result = dict()\n",
    "result[\"fallback\"] = \"Danger Message\" # 미리보기\n",
    "result[\"color\"] = \"danger\" # warning, #439FE0\n",
    "result[\"title\"] = \"Exception in Code\"\n",
    "result[\"text\"] = result_ms\n",
    "result[\"footer\"] = \"Exception\"\n",
    "result[\"footer_icon\"] = \"https://upload.wikimedia.org/wikipedia/commons/7/76/Slack_Icon.png\"\n",
    "result[\"ts\"] = time_now\n",
    "result['mrkdwn_in'] = [\"text\"]\n",
    "result_att = [result]"
   ]
  },
  {
   "cell_type": "code",
   "execution_count": 89,
   "metadata": {},
   "outputs": [
    {
     "data": {
      "text/plain": [
       "<slacker.Response at 0x110383710>"
      ]
     },
     "execution_count": 89,
     "metadata": {},
     "output_type": "execute_result"
    }
   ],
   "source": [
    "check_slack.chat.post_message(channel=\"#general\", text=None, attachments=result_att, as_user=True)"
   ]
  },
  {
   "cell_type": "markdown",
   "metadata": {},
   "source": [
    "# 4. Get Error"
   ]
  },
  {
   "cell_type": "code",
   "execution_count": 2,
   "metadata": {},
   "outputs": [
    {
     "name": "stdout",
     "output_type": "stream",
     "text": [
      "[NameError] name `driver` is not defined\n",
      "Traceback (most recent call last):\n",
      "  File \"<ipython-input-2-1598d44796d4>\", line 5, in <module>\n",
      "    driver.get(page)\n",
      "NameError: name 'driver' is not defined\n",
      "\n"
     ]
    }
   ],
   "source": [
    "import sys\n",
    "import traceback\n",
    "\n",
    "try:\n",
    "    driver.get(page)\n",
    "except:\n",
    "    exc = sys.exc_info()\n",
    "    exc_class = str(exc[0])[8:-2]\n",
    "    exc_content = str(exc[1]).replace(\"'\", \"`\")\n",
    "    \n",
    "    exc_title = \"[{}] {}\".format(exc_class, exc_content)\n",
    "    trace_back = traceback.format_exc()\n",
    "\n",
    "    print(exc_title)\n",
    "    print(trace_back)"
   ]
  },
  {
   "cell_type": "code",
   "execution_count": null,
   "metadata": {},
   "outputs": [],
   "source": []
  }
 ],
 "metadata": {
  "kernelspec": {
   "display_name": "Python 3",
   "language": "python",
   "name": "python3"
  },
  "language_info": {
   "codemirror_mode": {
    "name": "ipython",
    "version": 3
   },
   "file_extension": ".py",
   "mimetype": "text/x-python",
   "name": "python",
   "nbconvert_exporter": "python",
   "pygments_lexer": "ipython3",
   "version": "3.5.1"
  }
 },
 "nbformat": 4,
 "nbformat_minor": 2
}
